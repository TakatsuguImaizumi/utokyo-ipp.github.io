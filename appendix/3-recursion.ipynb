{
 "cells": [
  {
   "cell_type": "markdown",
   "metadata": {},
   "source": [
    "# ▲再帰\n",
    "**再帰**について説明します。\n",
    "\n",
    "関数の**再帰呼び出し**とは、定義しようとしている関数を、その定義の中で呼び出すことです。\n",
    "定義の中で直接呼び出す場合に限らず、他の関数を経由して間接的に呼び出す場合も、再帰呼び出しに含まれます。\n",
    "再帰呼び出しを行う関数を、**再帰関数**といいます。\n",
    "\n",
    "再帰関数は、**分割統治**アルゴリズムの記述に適しています。\n",
    "分割統治とは、問題を容易に解ける小さな粒度まで分割していき、\n",
    "個々の小さな問題を解いて、その部分解を合成することで問題全体を解くような方法を指します。\n",
    "分割統治の考え方は、関数型プログラミングにおいてもよく用いられます。\n",
    "再帰関数による分割統治の典型的な形は、次の通りです。\n",
    "\n",
    "```Python\n",
    "def recursive_function(...):\n",
    "    if 問題粒度の判定:\n",
    "        再帰呼び出しを含まない基本処理\n",
    "    else:\n",
    "        再帰呼び出しを含む処理（問題の分割や部分解の合成を行う）\n",
    "```"
   ]
  },
  {
   "cell_type": "markdown",
   "metadata": {},
   "source": [
    "以下で、再帰関数を使った処理の例をいくつか見ていきましょう。"
   ]
  },
  {
   "cell_type": "markdown",
   "metadata": {},
   "source": [
    "## 再帰関数の例：接頭辞リストと接尾辞リスト"
   ]
  },
  {
   "cell_type": "code",
   "execution_count": 1,
   "metadata": {},
   "outputs": [
    {
     "data": {
      "text/plain": [
       "['aabcc', 'aabc', 'aab', 'aa', 'a']"
      ]
     },
     "execution_count": 1,
     "metadata": {},
     "output_type": "execute_result"
    }
   ],
   "source": [
    "# 入力の文字列の接頭辞リストを返す関数prefixes\n",
    "def prefixes(s):\n",
    "    if s == '':\n",
    "        return []\n",
    "    else:\n",
    "        return [s] + prefixes(s[:-1])\n",
    "\n",
    "prefixes('aabcc')"
   ]
  },
  {
   "cell_type": "code",
   "execution_count": 2,
   "metadata": {},
   "outputs": [
    {
     "data": {
      "text/plain": [
       "['aabcc', 'abcc', 'bcc', 'cc', 'c']"
      ]
     },
     "execution_count": 2,
     "metadata": {},
     "output_type": "execute_result"
    }
   ],
   "source": [
    "# 入力の文字列の接尾辞リストを返す関数suffixes\n",
    "def suffixes(s):\n",
    "    if s == '':\n",
    "        return []\n",
    "    else:\n",
    "        return [s] + suffixes(s[1:])\n",
    "\n",
    "suffixes('aabcc')"
   ]
  },
  {
   "cell_type": "markdown",
   "metadata": {},
   "source": [
    "## 再帰関数の例：べき乗の計算"
   ]
  },
  {
   "cell_type": "code",
   "execution_count": 3,
   "metadata": {},
   "outputs": [
    {
     "data": {
      "text/plain": [
       "1024"
      ]
     },
     "execution_count": 3,
     "metadata": {},
     "output_type": "execute_result"
    }
   ],
   "source": [
    "# 入力の底baseと冪指数exptからべき乗を計算する関数power\n",
    "def power(base, expt):\n",
    "    if expt == 0:\n",
    "        # exptが0ならば1を返す\n",
    "        return 1\n",
    "    else:\n",
    "        # exptを1つずつ減らしながらpowerに渡し、再帰的にべき乗を計算\n",
    "        # (2*(2*(2*....*1)))\n",
    "        return base * power(base, expt - 1)\n",
    "    \n",
    "power(2,10)"
   ]
  },
  {
   "cell_type": "markdown",
   "metadata": {},
   "source": [
    "一般に、再帰処理は、繰り返し処理としても書くことができます。"
   ]
  },
  {
   "cell_type": "code",
   "execution_count": 4,
   "metadata": {
    "scrolled": false
   },
   "outputs": [
    {
     "data": {
      "text/plain": [
       "1024"
      ]
     },
     "execution_count": 4,
     "metadata": {},
     "output_type": "execute_result"
    }
   ],
   "source": [
    "# べき乗の計算を繰り返し処理で行った例\n",
    "def power(base, expt):\n",
    "    e = 1\n",
    "    for i in range(expt):\n",
    "        e *= base\n",
    "    return e\n",
    "\n",
    "power(2,10)"
   ]
  },
  {
   "cell_type": "markdown",
   "metadata": {},
   "source": [
    "単純な処理においては、繰り返しの方が効率的に計算できることが多いですが、\n",
    "特に複雑な処理になってくると、再帰的に定義した方が読みやすいコードで効率的なアルゴリズムを記述できることもあります。\n",
    "たとえば、次に示すべき乗計算は、上記よりも高速なアルゴリズムですが、計算の見通しは明快です。"
   ]
  },
  {
   "cell_type": "code",
   "execution_count": 5,
   "metadata": {},
   "outputs": [
    {
     "data": {
      "text/plain": [
       "1024"
      ]
     },
     "execution_count": 5,
     "metadata": {},
     "output_type": "execute_result"
    }
   ],
   "source": [
    "# べき乗を計算する高速なアルゴリズム\n",
    "def power(base, expt):\n",
    "    if expt == 0:\n",
    "        return 1\n",
    "    elif expt % 2 == 0:\n",
    "        return power(base * base, expt // 2) # x**(2m) == (x*x)**m\n",
    "    else:\n",
    "        return base * power(base, expt - 1)\n",
    "    \n",
    "power(2,10)"
   ]
  },
  {
   "cell_type": "markdown",
   "metadata": {},
   "source": [
    "## 再帰関数の例：マージソート\n",
    "\n",
    "マージソートは、典型的な分割統治アルゴリズムで、以下のように再帰関数で実装することができます。"
   ]
  },
  {
   "cell_type": "code",
   "execution_count": 6,
   "metadata": {},
   "outputs": [],
   "source": [
    "# マージソートを行い、比較回数 n を返す\n",
    "def merge_sort_rec(data, l, r, work):\n",
    "    n = 0\n",
    "    if r - l <= 1:\n",
    "        return n\n",
    "    m = l + (r - l) // 2\n",
    "    n1 = merge_sort_rec(data, l, m, work)\n",
    "    n2 = merge_sort_rec(data, m, r, work)\n",
    "    i1 = l\n",
    "    i2 = m\n",
    "    for i in range(l, r):\n",
    "        from1 = False\n",
    "        if i2 >= r:\n",
    "            from1 = True\n",
    "        elif i1 < m:\n",
    "            n = n + 1\n",
    "            if data[i1] <= data[i2]:\n",
    "                from1 = True\n",
    "        if from1:\n",
    "            work[i] = data[i1]\n",
    "            i1 = i1 + 1\n",
    "        else:\n",
    "            work[i] = data[i2]\n",
    "            i2 = i2 + 1\n",
    "    for i in range(l, r):\n",
    "        data[i] = work[i]\n",
    "    return n1 + n2 + n\n",
    "\n",
    "def merge_sort(data):\n",
    "    return merge_sort_rec(data, 0, len(data), [0]*len(data))"
   ]
  },
  {
   "cell_type": "markdown",
   "metadata": {},
   "source": [
    "`merge_sort` は、与えられた配列をインプレースでソートするとともに、比較の回数を返します。\n",
    "`merge_sort` は、再帰関数 `merge_sort_rec` を呼び出します。\n",
    "\n",
    "`merge_sort_rec(data, l, r, work)` は、配列 `data` のインデックスが `l` 以上で `r` より小さいところをソートします。\n",
    "\n",
    "- 要素が1つかないときは何もしません。\n",
    "- そうでなければ、`l` から　`r` までの要素を半分にしてそれぞれを再帰的にソートします。\n",
    "- その結果を作業用の配列 `work` に順序を保ちながらコピーします。この操作はマージ（併合）と呼ばれます。\n",
    "- 最後に、`work` から `data` に要素を戻します。\n",
    "\n",
    "`merge_sort_rec` は自分自身を2回呼び出していますので、繰り返しでは容易には実装できません。"
   ]
  },
  {
   "cell_type": "code",
   "execution_count": 7,
   "metadata": {},
   "outputs": [
    {
     "data": {
      "text/plain": [
       "540"
      ]
     },
     "execution_count": 7,
     "metadata": {},
     "output_type": "execute_result"
    }
   ],
   "source": [
    "import random\n",
    "a = [random.randint(1,10000) for i in range(100)]\n",
    "merge_sort(a)"
   ]
  },
  {
   "cell_type": "code",
   "execution_count": 8,
   "metadata": {},
   "outputs": [
    {
     "data": {
      "text/plain": [
       "[199,\n",
       " 229,\n",
       " 408,\n",
       " 527,\n",
       " 675,\n",
       " 824,\n",
       " 975,\n",
       " 1159,\n",
       " 1213,\n",
       " 1222,\n",
       " 1552,\n",
       " 1754,\n",
       " 1773,\n",
       " 2288,\n",
       " 2292,\n",
       " 2316,\n",
       " 2432,\n",
       " 2447,\n",
       " 2452,\n",
       " 2588,\n",
       " 2589,\n",
       " 2710,\n",
       " 2978,\n",
       " 3009,\n",
       " 3184,\n",
       " 3323,\n",
       " 3414,\n",
       " 3476,\n",
       " 3620,\n",
       " 3713,\n",
       " 3918,\n",
       " 4048,\n",
       " 4129,\n",
       " 4159,\n",
       " 4171,\n",
       " 4190,\n",
       " 4271,\n",
       " 4378,\n",
       " 4394,\n",
       " 4483,\n",
       " 4579,\n",
       " 4804,\n",
       " 4898,\n",
       " 4928,\n",
       " 4968,\n",
       " 4992,\n",
       " 5142,\n",
       " 5220,\n",
       " 5268,\n",
       " 5287,\n",
       " 5304,\n",
       " 5374,\n",
       " 5418,\n",
       " 5484,\n",
       " 5531,\n",
       " 5594,\n",
       " 5649,\n",
       " 5783,\n",
       " 5832,\n",
       " 6152,\n",
       " 6182,\n",
       " 6320,\n",
       " 6399,\n",
       " 6443,\n",
       " 6701,\n",
       " 6752,\n",
       " 6933,\n",
       " 7004,\n",
       " 7031,\n",
       " 7128,\n",
       " 7146,\n",
       " 7297,\n",
       " 7308,\n",
       " 7356,\n",
       " 7414,\n",
       " 7664,\n",
       " 7675,\n",
       " 7969,\n",
       " 7975,\n",
       " 7996,\n",
       " 8059,\n",
       " 8141,\n",
       " 8179,\n",
       " 8180,\n",
       " 8246,\n",
       " 8311,\n",
       " 8360,\n",
       " 8402,\n",
       " 8415,\n",
       " 8659,\n",
       " 8670,\n",
       " 8808,\n",
       " 9186,\n",
       " 9201,\n",
       " 9286,\n",
       " 9364,\n",
       " 9504,\n",
       " 9766,\n",
       " 9898,\n",
       " 9900]"
      ]
     },
     "execution_count": 8,
     "metadata": {},
     "output_type": "execute_result"
    }
   ],
   "source": [
    "a"
   ]
  },
  {
   "cell_type": "code",
   "execution_count": null,
   "metadata": {},
   "outputs": [],
   "source": []
  }
 ],
 "metadata": {
  "kernelspec": {
   "display_name": "Python 3",
   "language": "python",
   "name": "python3"
  },
  "language_info": {
   "codemirror_mode": {
    "name": "ipython",
    "version": 3
   },
   "file_extension": ".py",
   "mimetype": "text/x-python",
   "name": "python",
   "nbconvert_exporter": "python",
   "pygments_lexer": "ipython3",
   "version": "3.8.0"
  }
 },
 "nbformat": 4,
 "nbformat_minor": 2
}
