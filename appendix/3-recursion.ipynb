{
 "cells": [
  {
   "cell_type": "markdown",
   "metadata": {},
   "source": [
    "# ▲再帰\n",
    "**再帰**について説明します。\n",
    "\n",
    "関数の**再帰呼び出し**とは、定義しようとしている関数を、その定義の中で呼び出すことです。\n",
    "定義の中で直接呼び出す場合に限らず、他の関数を経由して間接的に呼び出す場合も、再帰呼び出しに含まれます。\n",
    "再帰呼び出しを行う関数を、**再帰関数**といいます。\n",
    "\n",
    "再帰関数は、**分割統治**アルゴリズムの記述に適しています。\n",
    "分割統治とは、問題を容易に解ける小さな粒度まで分割していき、\n",
    "個々の小さな問題を解いて、その部分解を合成することで問題全体を解くような方法を指します。\n",
    "分割統治の考え方は、関数型プログラミングにおいてもよく用いられます。\n",
    "再帰関数による分割統治の典型的な形は、次の通りです。\n",
    "\n",
    "```\n",
    "def recursive_function(...):\n",
    "    if 問題粒度の判定:\n",
    "        再帰呼び出しを含まない基本処理\n",
    "    else:\n",
    "        再帰呼び出しを含む処理（問題の分割や部分解の合成を行う）\n",
    "```\n"
   ]
  },
  {
   "cell_type": "markdown",
   "metadata": {},
   "source": [
    "以下で、再帰関数を使った処理の例をいくつか見ていきましょう。"
   ]
  },
  {
   "cell_type": "markdown",
   "metadata": {},
   "source": [
    "## 再帰関数の例：接頭辞リストと接尾辞リスト"
   ]
  },
  {
   "cell_type": "code",
   "execution_count": 1,
   "metadata": {},
   "outputs": [
    {
     "data": {
      "text/plain": [
       "['aabcc', 'aabc', 'aab', 'aa', 'a']"
      ]
     },
     "execution_count": 1,
     "metadata": {},
     "output_type": "execute_result"
    }
   ],
   "source": [
    "# 入力の文字列の接頭辞リストを返す関数prefixes\n",
    "def prefixes(s):\n",
    "    if s == '':\n",
    "        return []\n",
    "    else:\n",
    "        return [s] + prefixes(s[:-1])\n",
    "\n",
    "prefixes('aabcc')"
   ]
  },
  {
   "cell_type": "code",
   "execution_count": 2,
   "metadata": {},
   "outputs": [
    {
     "data": {
      "text/plain": [
       "['aabcc', 'abcc', 'bcc', 'cc', 'c']"
      ]
     },
     "execution_count": 2,
     "metadata": {},
     "output_type": "execute_result"
    }
   ],
   "source": [
    "# 入力の文字列の接尾辞リストを返す関数suffixes\n",
    "def suffixes(s):\n",
    "    if s == '':\n",
    "        return []\n",
    "    else:\n",
    "        return [s] + suffixes(s[1:])\n",
    "\n",
    "suffixes('aabcc')"
   ]
  },
  {
   "cell_type": "markdown",
   "metadata": {},
   "source": [
    "## 再帰関数の例：べき乗の計算"
   ]
  },
  {
   "cell_type": "code",
   "execution_count": 3,
   "metadata": {},
   "outputs": [
    {
     "data": {
      "text/plain": [
       "1024"
      ]
     },
     "execution_count": 3,
     "metadata": {},
     "output_type": "execute_result"
    }
   ],
   "source": [
    "# 入力の底baseと冪指数exptからべき乗を計算する関数power\n",
    "def power(base, expt):\n",
    "    if expt == 0:\n",
    "        # exptが0ならば1を返す\n",
    "        return 1\n",
    "    else:\n",
    "        # exptを1つずつ減らしながらpowerに渡し、再帰的にべき乗を計算\n",
    "        # (2*(2*(2*....*1)))\n",
    "        return base * power(base, expt - 1)\n",
    "    \n",
    "power(2,10)"
   ]
  },
  {
   "cell_type": "markdown",
   "metadata": {},
   "source": [
    "一般に、再帰処理は、繰り返し処理としても書くことができます。"
   ]
  },
  {
   "cell_type": "code",
   "execution_count": 4,
   "metadata": {
    "scrolled": false
   },
   "outputs": [
    {
     "data": {
      "text/plain": [
       "1024"
      ]
     },
     "execution_count": 4,
     "metadata": {},
     "output_type": "execute_result"
    }
   ],
   "source": [
    "# べき乗の計算を繰り返し処理で行った例\n",
    "def power(base, expt):\n",
    "    e = 1\n",
    "    for i in range(expt):\n",
    "        e *= base\n",
    "    return e\n",
    "\n",
    "power(2,10)"
   ]
  },
  {
   "cell_type": "markdown",
   "metadata": {},
   "source": [
    "単純な処理においては、繰り返しの方が効率的に計算できることが多いですが、\n",
    "特に複雑な処理になってくると、再帰的に定義した方が読みやすいコードで効率的なアルゴリズムを記述できることもあります。\n",
    "たとえば、次に示すべき乗計算は、上記よりも高速なアルゴリズムですが、計算の見通しは明快です。"
   ]
  },
  {
   "cell_type": "code",
   "execution_count": 5,
   "metadata": {},
   "outputs": [
    {
     "data": {
      "text/plain": [
       "1024"
      ]
     },
     "execution_count": 5,
     "metadata": {},
     "output_type": "execute_result"
    }
   ],
   "source": [
    "# べき乗を計算する高速なアルゴリズム\n",
    "def power(base, expt):\n",
    "    if expt == 0:\n",
    "        return 1\n",
    "    elif expt % 2 == 0:\n",
    "        return power(base * base, expt // 2) # x**(2m) == (x*x)**m\n",
    "    else:\n",
    "        return base * power(base, expt - 1)\n",
    "    \n",
    "power(2,10)"
   ]
  },
  {
   "cell_type": "markdown",
   "metadata": {},
   "source": [
    "## 再帰関数の例：マージソート\n",
    "\n",
    "マージソートは、典型的な分割統治アルゴリズムで、以下のように再帰関数で実装することができます。"
   ]
  },
  {
   "cell_type": "code",
   "execution_count": 6,
   "metadata": {},
   "outputs": [],
   "source": [
    "# マージソートを行い、比較回数 n を返す\n",
    "def merge_sort_rec(data, l, r, work):\n",
    "    n = 0\n",
    "    if r - l <= 1:\n",
    "        return n\n",
    "    m = l + (r - l) // 2\n",
    "    n1 = merge_sort_rec(data, l, m, work)\n",
    "    n2 = merge_sort_rec(data, m, r, work)\n",
    "    i1 = l\n",
    "    i2 = m\n",
    "    for i in range(l, r):\n",
    "        from1 = False\n",
    "        if i2 >= r:\n",
    "            from1 = True\n",
    "        elif i1 < m:\n",
    "            n = n + 1\n",
    "            if data[i1] <= data[i2]:\n",
    "                from1 = True\n",
    "        if from1:\n",
    "            work[i] = data[i1]\n",
    "            i1 = i1 + 1\n",
    "        else:\n",
    "            work[i] = data[i2]\n",
    "            i2 = i2 + 1\n",
    "    for i in range(l, r):\n",
    "        data[i] = work[i]\n",
    "    return n1 + n2 + n\n",
    "\n",
    "def merge_sort(data):\n",
    "    return merge_sort_rec(data, 0, len(data), [0]*len(data))"
   ]
  },
  {
   "cell_type": "markdown",
   "metadata": {},
   "source": [
    "`merge_sort` は、与えられた配列をインプレースでソートするとともに、比較の回数を返します。\n",
    "`merge_sort` は、再帰関数 `merge_sort_rec` を呼び出します。\n",
    "\n",
    "`merge_sort_rec(data, l, r, work)` は、配列 `data` のインデックスが `l` 以上で `r` より小さいところをソートします。\n",
    "\n",
    "- 要素が1つかないときは何もしません。\n",
    "- そうでなければ、`l` から　`r` までの要素を半分にしてそれぞれを再帰的にソートします。\n",
    "- その結果を作業用の配列 `work` に順序を保ちながらコピーします。この操作はマージ（併合）と呼ばれます。\n",
    "- 最後に、`work` から `data` に要素を戻します。\n",
    "\n",
    "`merge_sort_rec` は自分自身を2回呼び出していますので、繰り返しでは容易には実装できません。"
   ]
  },
  {
   "cell_type": "code",
   "execution_count": 7,
   "metadata": {},
   "outputs": [
    {
     "data": {
      "text/plain": [
       "530"
      ]
     },
     "execution_count": 7,
     "metadata": {},
     "output_type": "execute_result"
    }
   ],
   "source": [
    "import random\n",
    "a = [random.randint(1,10000) for i in range(100)]\n",
    "merge_sort(a)"
   ]
  },
  {
   "cell_type": "code",
   "execution_count": 8,
   "metadata": {},
   "outputs": [
    {
     "data": {
      "text/plain": [
       "[115,\n",
       " 434,\n",
       " 538,\n",
       " 686,\n",
       " 794,\n",
       " 809,\n",
       " 1013,\n",
       " 1064,\n",
       " 1110,\n",
       " 1127,\n",
       " 1185,\n",
       " 1235,\n",
       " 1252,\n",
       " 1274,\n",
       " 1523,\n",
       " 1666,\n",
       " 1775,\n",
       " 1878,\n",
       " 1999,\n",
       " 2137,\n",
       " 2161,\n",
       " 2244,\n",
       " 2284,\n",
       " 2370,\n",
       " 2515,\n",
       " 2537,\n",
       " 2611,\n",
       " 2847,\n",
       " 2946,\n",
       " 2995,\n",
       " 3030,\n",
       " 3095,\n",
       " 3098,\n",
       " 3213,\n",
       " 3247,\n",
       " 3321,\n",
       " 3337,\n",
       " 3337,\n",
       " 3386,\n",
       " 3414,\n",
       " 3425,\n",
       " 3479,\n",
       " 3501,\n",
       " 3580,\n",
       " 3695,\n",
       " 3880,\n",
       " 4308,\n",
       " 4349,\n",
       " 4474,\n",
       " 4520,\n",
       " 4526,\n",
       " 4558,\n",
       " 4666,\n",
       " 4717,\n",
       " 4743,\n",
       " 4785,\n",
       " 4792,\n",
       " 5184,\n",
       " 5360,\n",
       " 5498,\n",
       " 5640,\n",
       " 5910,\n",
       " 6137,\n",
       " 6144,\n",
       " 6322,\n",
       " 6629,\n",
       " 6658,\n",
       " 6728,\n",
       " 6843,\n",
       " 7014,\n",
       " 7147,\n",
       " 7470,\n",
       " 7495,\n",
       " 7570,\n",
       " 7656,\n",
       " 7673,\n",
       " 7738,\n",
       " 7743,\n",
       " 7748,\n",
       " 7808,\n",
       " 7823,\n",
       " 8000,\n",
       " 8107,\n",
       " 8174,\n",
       " 8342,\n",
       " 8743,\n",
       " 8899,\n",
       " 8956,\n",
       " 9207,\n",
       " 9230,\n",
       " 9232,\n",
       " 9502,\n",
       " 9537,\n",
       " 9552,\n",
       " 9553,\n",
       " 9601,\n",
       " 9637,\n",
       " 9682,\n",
       " 9799,\n",
       " 9930]"
      ]
     },
     "execution_count": 8,
     "metadata": {},
     "output_type": "execute_result"
    }
   ],
   "source": [
    "a"
   ]
  },
  {
   "cell_type": "code",
   "execution_count": null,
   "metadata": {},
   "outputs": [],
   "source": []
  }
 ],
 "metadata": {
  "kernelspec": {
   "display_name": "Python 3",
   "language": "python",
   "name": "python3"
  },
  "language_info": {
   "codemirror_mode": {
    "name": "ipython",
    "version": 3
   },
   "file_extension": ".py",
   "mimetype": "text/x-python",
   "name": "python",
   "nbconvert_exporter": "python",
   "pygments_lexer": "ipython3",
   "version": "3.8.0"
  }
 },
 "nbformat": 4,
 "nbformat_minor": 2
}
