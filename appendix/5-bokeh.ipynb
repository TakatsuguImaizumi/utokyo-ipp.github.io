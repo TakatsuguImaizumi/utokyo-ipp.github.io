{
 "cells": [
  {
   "cell_type": "markdown",
   "metadata": {},
   "source": [
    "# ▲Bokehライブラリ\n",
    "Bokehライブラリについて説明します。\n",
    "\n",
    "参考\n",
    "\n",
    "* https://bokeh.pydata.org/\n",
    "\n",
    "[Bokeh](https://bokeh.pydata.org/)は、データを可視化するためのライブラリです。\n",
    "`bokeh` モジュールを使った、基本的なグラフの描画について説明します。"
   ]
  },
  {
   "cell_type": "markdown",
   "metadata": {},
   "source": [
    "## 線グラフ\n",
    "Bokehライブラリ使用してグラフを描画するには、`bokeh.plotting` のモジュールをインポートします。\n",
    "基本的なグラフの描画を Jupyter Notebook 上で行うには、図形を生成する `bokeh.plotting.figure()`、図形を表示する `bokeh.plotting.show()`、出力先を Jupyter Notebook 上に設定する `bokeh.plotting.output_notebook()` があれば充分です。\n",
    "通例、`output_notebook()` は最初に呼び出されます。\n",
    "\n",
    "グラフで可視化するデータは配列を用いることが多いため、`numpy` モジュールも併せてインポートします。"
   ]
  },
  {
   "cell_type": "code",
   "execution_count": 1,
   "metadata": {},
   "outputs": [
    {
     "data": {
      "text/html": [
       "\n",
       "    <div class=\"bk-root\">\n",
       "        <a href=\"https://bokeh.org\" target=\"_blank\" class=\"bk-logo bk-logo-small bk-logo-notebook\"></a>\n",
       "        <span id=\"1001\">Loading BokehJS ...</span>\n",
       "    </div>"
      ]
     },
     "metadata": {},
     "output_type": "display_data"
    },
    {
     "data": {
      "application/javascript": [
       "\n",
       "(function(root) {\n",
       "  function now() {\n",
       "    return new Date();\n",
       "  }\n",
       "\n",
       "  var force = true;\n",
       "\n",
       "  if (typeof root._bokeh_onload_callbacks === \"undefined\" || force === true) {\n",
       "    root._bokeh_onload_callbacks = [];\n",
       "    root._bokeh_is_loading = undefined;\n",
       "  }\n",
       "\n",
       "  var JS_MIME_TYPE = 'application/javascript';\n",
       "  var HTML_MIME_TYPE = 'text/html';\n",
       "  var EXEC_MIME_TYPE = 'application/vnd.bokehjs_exec.v0+json';\n",
       "  var CLASS_NAME = 'output_bokeh rendered_html';\n",
       "\n",
       "  /**\n",
       "   * Render data to the DOM node\n",
       "   */\n",
       "  function render(props, node) {\n",
       "    var script = document.createElement(\"script\");\n",
       "    node.appendChild(script);\n",
       "  }\n",
       "\n",
       "  /**\n",
       "   * Handle when an output is cleared or removed\n",
       "   */\n",
       "  function handleClearOutput(event, handle) {\n",
       "    var cell = handle.cell;\n",
       "\n",
       "    var id = cell.output_area._bokeh_element_id;\n",
       "    var server_id = cell.output_area._bokeh_server_id;\n",
       "    // Clean up Bokeh references\n",
       "    if (id != null && id in Bokeh.index) {\n",
       "      Bokeh.index[id].model.document.clear();\n",
       "      delete Bokeh.index[id];\n",
       "    }\n",
       "\n",
       "    if (server_id !== undefined) {\n",
       "      // Clean up Bokeh references\n",
       "      var cmd = \"from bokeh.io.state import curstate; print(curstate().uuid_to_server['\" + server_id + \"'].get_sessions()[0].document.roots[0]._id)\";\n",
       "      cell.notebook.kernel.execute(cmd, {\n",
       "        iopub: {\n",
       "          output: function(msg) {\n",
       "            var id = msg.content.text.trim();\n",
       "            if (id in Bokeh.index) {\n",
       "              Bokeh.index[id].model.document.clear();\n",
       "              delete Bokeh.index[id];\n",
       "            }\n",
       "          }\n",
       "        }\n",
       "      });\n",
       "      // Destroy server and session\n",
       "      var cmd = \"import bokeh.io.notebook as ion; ion.destroy_server('\" + server_id + \"')\";\n",
       "      cell.notebook.kernel.execute(cmd);\n",
       "    }\n",
       "  }\n",
       "\n",
       "  /**\n",
       "   * Handle when a new output is added\n",
       "   */\n",
       "  function handleAddOutput(event, handle) {\n",
       "    var output_area = handle.output_area;\n",
       "    var output = handle.output;\n",
       "\n",
       "    // limit handleAddOutput to display_data with EXEC_MIME_TYPE content only\n",
       "    if ((output.output_type != \"display_data\") || (!output.data.hasOwnProperty(EXEC_MIME_TYPE))) {\n",
       "      return\n",
       "    }\n",
       "\n",
       "    var toinsert = output_area.element.find(\".\" + CLASS_NAME.split(' ')[0]);\n",
       "\n",
       "    if (output.metadata[EXEC_MIME_TYPE][\"id\"] !== undefined) {\n",
       "      toinsert[toinsert.length - 1].firstChild.textContent = output.data[JS_MIME_TYPE];\n",
       "      // store reference to embed id on output_area\n",
       "      output_area._bokeh_element_id = output.metadata[EXEC_MIME_TYPE][\"id\"];\n",
       "    }\n",
       "    if (output.metadata[EXEC_MIME_TYPE][\"server_id\"] !== undefined) {\n",
       "      var bk_div = document.createElement(\"div\");\n",
       "      bk_div.innerHTML = output.data[HTML_MIME_TYPE];\n",
       "      var script_attrs = bk_div.children[0].attributes;\n",
       "      for (var i = 0; i < script_attrs.length; i++) {\n",
       "        toinsert[toinsert.length - 1].firstChild.setAttribute(script_attrs[i].name, script_attrs[i].value);\n",
       "        toinsert[toinsert.length - 1].firstChild.textContent = bk_div.children[0].textContent\n",
       "      }\n",
       "      // store reference to server id on output_area\n",
       "      output_area._bokeh_server_id = output.metadata[EXEC_MIME_TYPE][\"server_id\"];\n",
       "    }\n",
       "  }\n",
       "\n",
       "  function register_renderer(events, OutputArea) {\n",
       "\n",
       "    function append_mime(data, metadata, element) {\n",
       "      // create a DOM node to render to\n",
       "      var toinsert = this.create_output_subarea(\n",
       "        metadata,\n",
       "        CLASS_NAME,\n",
       "        EXEC_MIME_TYPE\n",
       "      );\n",
       "      this.keyboard_manager.register_events(toinsert);\n",
       "      // Render to node\n",
       "      var props = {data: data, metadata: metadata[EXEC_MIME_TYPE]};\n",
       "      render(props, toinsert[toinsert.length - 1]);\n",
       "      element.append(toinsert);\n",
       "      return toinsert\n",
       "    }\n",
       "\n",
       "    /* Handle when an output is cleared or removed */\n",
       "    events.on('clear_output.CodeCell', handleClearOutput);\n",
       "    events.on('delete.Cell', handleClearOutput);\n",
       "\n",
       "    /* Handle when a new output is added */\n",
       "    events.on('output_added.OutputArea', handleAddOutput);\n",
       "\n",
       "    /**\n",
       "     * Register the mime type and append_mime function with output_area\n",
       "     */\n",
       "    OutputArea.prototype.register_mime_type(EXEC_MIME_TYPE, append_mime, {\n",
       "      /* Is output safe? */\n",
       "      safe: true,\n",
       "      /* Index of renderer in `output_area.display_order` */\n",
       "      index: 0\n",
       "    });\n",
       "  }\n",
       "\n",
       "  // register the mime type if in Jupyter Notebook environment and previously unregistered\n",
       "  if (root.Jupyter !== undefined) {\n",
       "    var events = require('base/js/events');\n",
       "    var OutputArea = require('notebook/js/outputarea').OutputArea;\n",
       "\n",
       "    if (OutputArea.prototype.mime_types().indexOf(EXEC_MIME_TYPE) == -1) {\n",
       "      register_renderer(events, OutputArea);\n",
       "    }\n",
       "  }\n",
       "\n",
       "  \n",
       "  if (typeof (root._bokeh_timeout) === \"undefined\" || force === true) {\n",
       "    root._bokeh_timeout = Date.now() + 5000;\n",
       "    root._bokeh_failed_load = false;\n",
       "  }\n",
       "\n",
       "  var NB_LOAD_WARNING = {'data': {'text/html':\n",
       "     \"<div style='background-color: #fdd'>\\n\"+\n",
       "     \"<p>\\n\"+\n",
       "     \"BokehJS does not appear to have successfully loaded. If loading BokehJS from CDN, this \\n\"+\n",
       "     \"may be due to a slow or bad network connection. Possible fixes:\\n\"+\n",
       "     \"</p>\\n\"+\n",
       "     \"<ul>\\n\"+\n",
       "     \"<li>re-rerun `output_notebook()` to attempt to load from CDN again, or</li>\\n\"+\n",
       "     \"<li>use INLINE resources instead, as so:</li>\\n\"+\n",
       "     \"</ul>\\n\"+\n",
       "     \"<code>\\n\"+\n",
       "     \"from bokeh.resources import INLINE\\n\"+\n",
       "     \"output_notebook(resources=INLINE)\\n\"+\n",
       "     \"</code>\\n\"+\n",
       "     \"</div>\"}};\n",
       "\n",
       "  function display_loaded() {\n",
       "    var el = document.getElementById(\"1001\");\n",
       "    if (el != null) {\n",
       "      el.textContent = \"BokehJS is loading...\";\n",
       "    }\n",
       "    if (root.Bokeh !== undefined) {\n",
       "      if (el != null) {\n",
       "        el.textContent = \"BokehJS \" + root.Bokeh.version + \" successfully loaded.\";\n",
       "      }\n",
       "    } else if (Date.now() < root._bokeh_timeout) {\n",
       "      setTimeout(display_loaded, 100)\n",
       "    }\n",
       "  }\n",
       "\n",
       "\n",
       "  function run_callbacks() {\n",
       "    try {\n",
       "      root._bokeh_onload_callbacks.forEach(function(callback) {\n",
       "        if (callback != null)\n",
       "          callback();\n",
       "      });\n",
       "    } finally {\n",
       "      delete root._bokeh_onload_callbacks\n",
       "    }\n",
       "    console.debug(\"Bokeh: all callbacks have finished\");\n",
       "  }\n",
       "\n",
       "  function load_libs(css_urls, js_urls, callback) {\n",
       "    if (css_urls == null) css_urls = [];\n",
       "    if (js_urls == null) js_urls = [];\n",
       "\n",
       "    root._bokeh_onload_callbacks.push(callback);\n",
       "    if (root._bokeh_is_loading > 0) {\n",
       "      console.debug(\"Bokeh: BokehJS is being loaded, scheduling callback at\", now());\n",
       "      return null;\n",
       "    }\n",
       "    if (js_urls == null || js_urls.length === 0) {\n",
       "      run_callbacks();\n",
       "      return null;\n",
       "    }\n",
       "    console.debug(\"Bokeh: BokehJS not loaded, scheduling load and callback at\", now());\n",
       "    root._bokeh_is_loading = css_urls.length + js_urls.length;\n",
       "\n",
       "    function on_load() {\n",
       "      root._bokeh_is_loading--;\n",
       "      if (root._bokeh_is_loading === 0) {\n",
       "        console.debug(\"Bokeh: all BokehJS libraries/stylesheets loaded\");\n",
       "        run_callbacks()\n",
       "      }\n",
       "    }\n",
       "\n",
       "    function on_error() {\n",
       "      console.error(\"failed to load \" + url);\n",
       "    }\n",
       "\n",
       "    for (var i = 0; i < css_urls.length; i++) {\n",
       "      var url = css_urls[i];\n",
       "      const element = document.createElement(\"link\");\n",
       "      element.onload = on_load;\n",
       "      element.onerror = on_error;\n",
       "      element.rel = \"stylesheet\";\n",
       "      element.type = \"text/css\";\n",
       "      element.href = url;\n",
       "      console.debug(\"Bokeh: injecting link tag for BokehJS stylesheet: \", url);\n",
       "      document.body.appendChild(element);\n",
       "    }\n",
       "\n",
       "    for (var i = 0; i < js_urls.length; i++) {\n",
       "      var url = js_urls[i];\n",
       "      var element = document.createElement('script');\n",
       "      element.onload = on_load;\n",
       "      element.onerror = on_error;\n",
       "      element.async = false;\n",
       "      element.src = url;\n",
       "      \n",
       "      console.debug(\"Bokeh: injecting script tag for BokehJS library: \", url);\n",
       "      document.head.appendChild(element);\n",
       "    }\n",
       "  };var element = document.getElementById(\"1001\");\n",
       "  if (element == null) {\n",
       "    console.error(\"Bokeh: ERROR: autoload.js configured with elementid '1001' but no matching script tag was found. \")\n",
       "    return false;\n",
       "  }\n",
       "\n",
       "  function inject_raw_css(css) {\n",
       "    const element = document.createElement(\"style\");\n",
       "    element.appendChild(document.createTextNode(css));\n",
       "    document.body.appendChild(element);\n",
       "  }\n",
       "\n",
       "  \n",
       "  var js_urls = [\"https://cdn.bokeh.org/bokeh/release/bokeh-2.0.0.min.js\", \"https://cdn.bokeh.org/bokeh/release/bokeh-widgets-2.0.0.min.js\", \"https://cdn.bokeh.org/bokeh/release/bokeh-tables-2.0.0.min.js\", \"https://cdn.bokeh.org/bokeh/release/bokeh-gl-2.0.0.min.js\"];\n",
       "  var css_urls = [];\n",
       "  \n",
       "\n",
       "  var inline_js = [\n",
       "    function(Bokeh) {\n",
       "      Bokeh.set_log_level(\"info\");\n",
       "    },\n",
       "    function(Bokeh) {\n",
       "    \n",
       "    \n",
       "    }\n",
       "  ];\n",
       "\n",
       "  function run_inline_js() {\n",
       "    \n",
       "    if (root.Bokeh !== undefined || force === true) {\n",
       "      \n",
       "    for (var i = 0; i < inline_js.length; i++) {\n",
       "      inline_js[i].call(root, root.Bokeh);\n",
       "    }\n",
       "    if (force === true) {\n",
       "        display_loaded();\n",
       "      }} else if (Date.now() < root._bokeh_timeout) {\n",
       "      setTimeout(run_inline_js, 100);\n",
       "    } else if (!root._bokeh_failed_load) {\n",
       "      console.log(\"Bokeh: BokehJS failed to load within specified timeout.\");\n",
       "      root._bokeh_failed_load = true;\n",
       "    } else if (force !== true) {\n",
       "      var cell = $(document.getElementById(\"1001\")).parents('.cell').data().cell;\n",
       "      cell.output_area.append_execute_result(NB_LOAD_WARNING)\n",
       "    }\n",
       "\n",
       "  }\n",
       "\n",
       "  if (root._bokeh_is_loading === 0) {\n",
       "    console.debug(\"Bokeh: BokehJS loaded, going straight to plotting\");\n",
       "    run_inline_js();\n",
       "  } else {\n",
       "    load_libs(css_urls, js_urls, function() {\n",
       "      console.debug(\"Bokeh: BokehJS plotting callback run at\", now());\n",
       "      run_inline_js();\n",
       "    });\n",
       "  }\n",
       "}(window));"
      ],
      "application/vnd.bokehjs_load.v0+json": "\n(function(root) {\n  function now() {\n    return new Date();\n  }\n\n  var force = true;\n\n  if (typeof root._bokeh_onload_callbacks === \"undefined\" || force === true) {\n    root._bokeh_onload_callbacks = [];\n    root._bokeh_is_loading = undefined;\n  }\n\n  \n\n  \n  if (typeof (root._bokeh_timeout) === \"undefined\" || force === true) {\n    root._bokeh_timeout = Date.now() + 5000;\n    root._bokeh_failed_load = false;\n  }\n\n  var NB_LOAD_WARNING = {'data': {'text/html':\n     \"<div style='background-color: #fdd'>\\n\"+\n     \"<p>\\n\"+\n     \"BokehJS does not appear to have successfully loaded. If loading BokehJS from CDN, this \\n\"+\n     \"may be due to a slow or bad network connection. Possible fixes:\\n\"+\n     \"</p>\\n\"+\n     \"<ul>\\n\"+\n     \"<li>re-rerun `output_notebook()` to attempt to load from CDN again, or</li>\\n\"+\n     \"<li>use INLINE resources instead, as so:</li>\\n\"+\n     \"</ul>\\n\"+\n     \"<code>\\n\"+\n     \"from bokeh.resources import INLINE\\n\"+\n     \"output_notebook(resources=INLINE)\\n\"+\n     \"</code>\\n\"+\n     \"</div>\"}};\n\n  function display_loaded() {\n    var el = document.getElementById(\"1001\");\n    if (el != null) {\n      el.textContent = \"BokehJS is loading...\";\n    }\n    if (root.Bokeh !== undefined) {\n      if (el != null) {\n        el.textContent = \"BokehJS \" + root.Bokeh.version + \" successfully loaded.\";\n      }\n    } else if (Date.now() < root._bokeh_timeout) {\n      setTimeout(display_loaded, 100)\n    }\n  }\n\n\n  function run_callbacks() {\n    try {\n      root._bokeh_onload_callbacks.forEach(function(callback) {\n        if (callback != null)\n          callback();\n      });\n    } finally {\n      delete root._bokeh_onload_callbacks\n    }\n    console.debug(\"Bokeh: all callbacks have finished\");\n  }\n\n  function load_libs(css_urls, js_urls, callback) {\n    if (css_urls == null) css_urls = [];\n    if (js_urls == null) js_urls = [];\n\n    root._bokeh_onload_callbacks.push(callback);\n    if (root._bokeh_is_loading > 0) {\n      console.debug(\"Bokeh: BokehJS is being loaded, scheduling callback at\", now());\n      return null;\n    }\n    if (js_urls == null || js_urls.length === 0) {\n      run_callbacks();\n      return null;\n    }\n    console.debug(\"Bokeh: BokehJS not loaded, scheduling load and callback at\", now());\n    root._bokeh_is_loading = css_urls.length + js_urls.length;\n\n    function on_load() {\n      root._bokeh_is_loading--;\n      if (root._bokeh_is_loading === 0) {\n        console.debug(\"Bokeh: all BokehJS libraries/stylesheets loaded\");\n        run_callbacks()\n      }\n    }\n\n    function on_error() {\n      console.error(\"failed to load \" + url);\n    }\n\n    for (var i = 0; i < css_urls.length; i++) {\n      var url = css_urls[i];\n      const element = document.createElement(\"link\");\n      element.onload = on_load;\n      element.onerror = on_error;\n      element.rel = \"stylesheet\";\n      element.type = \"text/css\";\n      element.href = url;\n      console.debug(\"Bokeh: injecting link tag for BokehJS stylesheet: \", url);\n      document.body.appendChild(element);\n    }\n\n    for (var i = 0; i < js_urls.length; i++) {\n      var url = js_urls[i];\n      var element = document.createElement('script');\n      element.onload = on_load;\n      element.onerror = on_error;\n      element.async = false;\n      element.src = url;\n      \n      console.debug(\"Bokeh: injecting script tag for BokehJS library: \", url);\n      document.head.appendChild(element);\n    }\n  };var element = document.getElementById(\"1001\");\n  if (element == null) {\n    console.error(\"Bokeh: ERROR: autoload.js configured with elementid '1001' but no matching script tag was found. \")\n    return false;\n  }\n\n  function inject_raw_css(css) {\n    const element = document.createElement(\"style\");\n    element.appendChild(document.createTextNode(css));\n    document.body.appendChild(element);\n  }\n\n  \n  var js_urls = [\"https://cdn.bokeh.org/bokeh/release/bokeh-2.0.0.min.js\", \"https://cdn.bokeh.org/bokeh/release/bokeh-widgets-2.0.0.min.js\", \"https://cdn.bokeh.org/bokeh/release/bokeh-tables-2.0.0.min.js\", \"https://cdn.bokeh.org/bokeh/release/bokeh-gl-2.0.0.min.js\"];\n  var css_urls = [];\n  \n\n  var inline_js = [\n    function(Bokeh) {\n      Bokeh.set_log_level(\"info\");\n    },\n    function(Bokeh) {\n    \n    \n    }\n  ];\n\n  function run_inline_js() {\n    \n    if (root.Bokeh !== undefined || force === true) {\n      \n    for (var i = 0; i < inline_js.length; i++) {\n      inline_js[i].call(root, root.Bokeh);\n    }\n    if (force === true) {\n        display_loaded();\n      }} else if (Date.now() < root._bokeh_timeout) {\n      setTimeout(run_inline_js, 100);\n    } else if (!root._bokeh_failed_load) {\n      console.log(\"Bokeh: BokehJS failed to load within specified timeout.\");\n      root._bokeh_failed_load = true;\n    } else if (force !== true) {\n      var cell = $(document.getElementById(\"1001\")).parents('.cell').data().cell;\n      cell.output_area.append_execute_result(NB_LOAD_WARNING)\n    }\n\n  }\n\n  if (root._bokeh_is_loading === 0) {\n    console.debug(\"Bokeh: BokehJS loaded, going straight to plotting\");\n    run_inline_js();\n  } else {\n    load_libs(css_urls, js_urls, function() {\n      console.debug(\"Bokeh: BokehJS plotting callback run at\", now());\n      run_inline_js();\n    });\n  }\n}(window));"
     },
     "metadata": {},
     "output_type": "display_data"
    }
   ],
   "source": [
    "import numpy as np\n",
    "from bokeh.plotting import figure, output_notebook, show\n",
    "output_notebook()"
   ]
  },
  {
   "cell_type": "markdown",
   "metadata": {},
   "source": [
    "次は、`figure()` が返す `Figure` クラスの `line()` メソッドを使って、リストの要素の数値をy軸の値としてグラフを描画しています。\n",
    "y軸の値に対応するx軸の値は、リストの各要素のインデックスとしています。"
   ]
  },
  {
   "cell_type": "code",
   "execution_count": 2,
   "metadata": {},
   "outputs": [
    {
     "data": {
      "text/html": [
       "\n",
       "\n",
       "\n",
       "\n",
       "\n",
       "\n",
       "  <div class=\"bk-root\" id=\"44e788e6-194c-4835-b8ab-4d71b4d83f3b\" data-root-id=\"1002\"></div>\n"
      ]
     },
     "metadata": {},
     "output_type": "display_data"
    },
    {
     "data": {
      "application/javascript": [
       "(function(root) {\n",
       "  function embed_document(root) {\n",
       "    \n",
       "  var docs_json = {\"10f0e93e-4e7a-4c28-b0d6-59ca8e2b381d\":{\"roots\":{\"references\":[{\"attributes\":{\"below\":[{\"id\":\"1011\"}],\"center\":[{\"id\":\"1014\"},{\"id\":\"1018\"}],\"left\":[{\"id\":\"1015\"}],\"renderers\":[{\"id\":\"1035\"}],\"title\":{\"id\":\"1038\"},\"toolbar\":{\"id\":\"1025\"},\"x_range\":{\"id\":\"1003\"},\"x_scale\":{\"id\":\"1007\"},\"y_range\":{\"id\":\"1005\"},\"y_scale\":{\"id\":\"1009\"}},\"id\":\"1002\",\"subtype\":\"Figure\",\"type\":\"Plot\"},{\"attributes\":{\"data_source\":{\"id\":\"1032\"},\"glyph\":{\"id\":\"1033\"},\"hover_glyph\":null,\"muted_glyph\":null,\"nonselection_glyph\":{\"id\":\"1034\"},\"selection_glyph\":null,\"view\":{\"id\":\"1036\"}},\"id\":\"1035\",\"type\":\"GlyphRenderer\"},{\"attributes\":{\"text\":\"\"},\"id\":\"1038\",\"type\":\"Title\"},{\"attributes\":{},\"id\":\"1007\",\"type\":\"LinearScale\"},{\"attributes\":{\"formatter\":{\"id\":\"1039\"},\"ticker\":{\"id\":\"1012\"}},\"id\":\"1011\",\"type\":\"LinearAxis\"},{\"attributes\":{},\"id\":\"1009\",\"type\":\"LinearScale\"},{\"attributes\":{\"line_alpha\":0.1,\"line_color\":\"#1f77b4\",\"x\":{\"field\":\"x\"},\"y\":{\"field\":\"y\"}},\"id\":\"1034\",\"type\":\"Line\"},{\"attributes\":{},\"id\":\"1012\",\"type\":\"BasicTicker\"},{\"attributes\":{\"axis\":{\"id\":\"1011\"},\"ticker\":null},\"id\":\"1014\",\"type\":\"Grid\"},{\"attributes\":{},\"id\":\"1016\",\"type\":\"BasicTicker\"},{\"attributes\":{},\"id\":\"1041\",\"type\":\"BasicTickFormatter\"},{\"attributes\":{\"formatter\":{\"id\":\"1041\"},\"ticker\":{\"id\":\"1016\"}},\"id\":\"1015\",\"type\":\"LinearAxis\"},{\"attributes\":{\"overlay\":{\"id\":\"1043\"}},\"id\":\"1021\",\"type\":\"BoxZoomTool\"},{\"attributes\":{},\"id\":\"1024\",\"type\":\"HelpTool\"},{\"attributes\":{\"active_drag\":\"auto\",\"active_inspect\":\"auto\",\"active_multi\":null,\"active_scroll\":\"auto\",\"active_tap\":\"auto\",\"tools\":[{\"id\":\"1019\"},{\"id\":\"1020\"},{\"id\":\"1021\"},{\"id\":\"1022\"},{\"id\":\"1023\"},{\"id\":\"1024\"}]},\"id\":\"1025\",\"type\":\"Toolbar\"},{\"attributes\":{},\"id\":\"1019\",\"type\":\"PanTool\"},{\"attributes\":{},\"id\":\"1020\",\"type\":\"WheelZoomTool\"},{\"attributes\":{\"axis\":{\"id\":\"1015\"},\"dimension\":1,\"ticker\":null},\"id\":\"1018\",\"type\":\"Grid\"},{\"attributes\":{\"bottom_units\":\"screen\",\"fill_alpha\":0.5,\"fill_color\":\"lightgrey\",\"left_units\":\"screen\",\"level\":\"overlay\",\"line_alpha\":1.0,\"line_color\":\"black\",\"line_dash\":[4,4],\"line_width\":2,\"render_mode\":\"css\",\"right_units\":\"screen\",\"top_units\":\"screen\"},\"id\":\"1043\",\"type\":\"BoxAnnotation\"},{\"attributes\":{},\"id\":\"1022\",\"type\":\"SaveTool\"},{\"attributes\":{},\"id\":\"1023\",\"type\":\"ResetTool\"},{\"attributes\":{},\"id\":\"1039\",\"type\":\"BasicTickFormatter\"},{\"attributes\":{\"source\":{\"id\":\"1032\"}},\"id\":\"1036\",\"type\":\"CDSView\"},{\"attributes\":{\"line_color\":\"#1f77b4\",\"x\":{\"field\":\"x\"},\"y\":{\"field\":\"y\"}},\"id\":\"1033\",\"type\":\"Line\"},{\"attributes\":{},\"id\":\"1044\",\"type\":\"UnionRenderers\"},{\"attributes\":{},\"id\":\"1045\",\"type\":\"Selection\"},{\"attributes\":{\"data\":{\"x\":[0,1,2,3,4],\"y\":[0,1,4,9,16]},\"selected\":{\"id\":\"1045\"},\"selection_policy\":{\"id\":\"1044\"}},\"id\":\"1032\",\"type\":\"ColumnDataSource\"},{\"attributes\":{},\"id\":\"1005\",\"type\":\"DataRange1d\"},{\"attributes\":{},\"id\":\"1003\",\"type\":\"DataRange1d\"}],\"root_ids\":[\"1002\"]},\"title\":\"Bokeh Application\",\"version\":\"2.0.0\"}};\n",
       "  var render_items = [{\"docid\":\"10f0e93e-4e7a-4c28-b0d6-59ca8e2b381d\",\"root_ids\":[\"1002\"],\"roots\":{\"1002\":\"44e788e6-194c-4835-b8ab-4d71b4d83f3b\"}}];\n",
       "  root.Bokeh.embed.embed_items_notebook(docs_json, render_items);\n",
       "\n",
       "  }\n",
       "  if (root.Bokeh !== undefined) {\n",
       "    embed_document(root);\n",
       "  } else {\n",
       "    var attempts = 0;\n",
       "    var timer = setInterval(function(root) {\n",
       "      if (root.Bokeh !== undefined) {\n",
       "        clearInterval(timer);\n",
       "        embed_document(root);\n",
       "      } else {\n",
       "        attempts++;\n",
       "        if (attempts > 100) {\n",
       "          clearInterval(timer);\n",
       "          console.log(\"Bokeh: ERROR: Unable to run BokehJS code because BokehJS library is missing\");\n",
       "        }\n",
       "      }\n",
       "    }, 10, root)\n",
       "  }\n",
       "})(window);"
      ],
      "application/vnd.bokehjs_exec.v0+json": ""
     },
     "metadata": {
      "application/vnd.bokehjs_exec.v0+json": {
       "id": "1002"
      }
     },
     "output_type": "display_data"
    }
   ],
   "source": [
    "# プロットするデータ\n",
    "d = [0, 1, 4, 9, 16]\n",
    "p = figure()\n",
    "p.line(range(len(d)), d) # 第1引数がx軸、第2引数がy軸\n",
    "show(p)"
   ]
  },
  {
   "cell_type": "markdown",
   "metadata": {},
   "source": [
    "`line()` メソッド（及び他の描画用メソッド）では、キーワード引数も使えます。"
   ]
  },
  {
   "cell_type": "code",
   "execution_count": 3,
   "metadata": {},
   "outputs": [
    {
     "data": {
      "text/html": [
       "\n",
       "\n",
       "\n",
       "\n",
       "\n",
       "\n",
       "  <div class=\"bk-root\" id=\"3418dbb9-9456-4d40-a5d7-67d1bfb27b49\" data-root-id=\"1100\"></div>\n"
      ]
     },
     "metadata": {},
     "output_type": "display_data"
    },
    {
     "data": {
      "application/javascript": [
       "(function(root) {\n",
       "  function embed_document(root) {\n",
       "    \n",
       "  var docs_json = {\"e866ca6e-9ab2-4319-ae66-0aa1a1345000\":{\"roots\":{\"references\":[{\"attributes\":{\"below\":[{\"id\":\"1109\"}],\"center\":[{\"id\":\"1112\"},{\"id\":\"1116\"}],\"left\":[{\"id\":\"1113\"}],\"renderers\":[{\"id\":\"1133\"}],\"title\":{\"id\":\"1145\"},\"toolbar\":{\"id\":\"1123\"},\"x_range\":{\"id\":\"1101\"},\"x_scale\":{\"id\":\"1105\"},\"y_range\":{\"id\":\"1103\"},\"y_scale\":{\"id\":\"1107\"}},\"id\":\"1100\",\"subtype\":\"Figure\",\"type\":\"Plot\"},{\"attributes\":{},\"id\":\"1118\",\"type\":\"WheelZoomTool\"},{\"attributes\":{},\"id\":\"1121\",\"type\":\"ResetTool\"},{\"attributes\":{\"source\":{\"id\":\"1130\"}},\"id\":\"1134\",\"type\":\"CDSView\"},{\"attributes\":{\"line_color\":\"#1f77b4\",\"x\":{\"field\":\"x\"},\"y\":{\"field\":\"y\"}},\"id\":\"1131\",\"type\":\"Line\"},{\"attributes\":{\"data\":{\"x\":[0,1,2,3,4],\"y\":[0,1,4,9,16]},\"selected\":{\"id\":\"1152\"},\"selection_policy\":{\"id\":\"1151\"}},\"id\":\"1130\",\"type\":\"ColumnDataSource\"},{\"attributes\":{},\"id\":\"1122\",\"type\":\"HelpTool\"},{\"attributes\":{\"bottom_units\":\"screen\",\"fill_alpha\":0.5,\"fill_color\":\"lightgrey\",\"left_units\":\"screen\",\"level\":\"overlay\",\"line_alpha\":1.0,\"line_color\":\"black\",\"line_dash\":[4,4],\"line_width\":2,\"render_mode\":\"css\",\"right_units\":\"screen\",\"top_units\":\"screen\"},\"id\":\"1150\",\"type\":\"BoxAnnotation\"},{\"attributes\":{},\"id\":\"1101\",\"type\":\"DataRange1d\"},{\"attributes\":{},\"id\":\"1117\",\"type\":\"PanTool\"},{\"attributes\":{\"data_source\":{\"id\":\"1130\"},\"glyph\":{\"id\":\"1131\"},\"hover_glyph\":null,\"muted_glyph\":null,\"nonselection_glyph\":{\"id\":\"1132\"},\"selection_glyph\":null,\"view\":{\"id\":\"1134\"}},\"id\":\"1133\",\"type\":\"GlyphRenderer\"},{\"attributes\":{},\"id\":\"1110\",\"type\":\"BasicTicker\"},{\"attributes\":{},\"id\":\"1103\",\"type\":\"DataRange1d\"},{\"attributes\":{\"text\":\"\"},\"id\":\"1145\",\"type\":\"Title\"},{\"attributes\":{},\"id\":\"1105\",\"type\":\"LinearScale\"},{\"attributes\":{\"formatter\":{\"id\":\"1146\"},\"ticker\":{\"id\":\"1110\"}},\"id\":\"1109\",\"type\":\"LinearAxis\"},{\"attributes\":{},\"id\":\"1107\",\"type\":\"LinearScale\"},{\"attributes\":{\"formatter\":{\"id\":\"1148\"},\"ticker\":{\"id\":\"1114\"}},\"id\":\"1113\",\"type\":\"LinearAxis\"},{\"attributes\":{},\"id\":\"1151\",\"type\":\"UnionRenderers\"},{\"attributes\":{\"axis\":{\"id\":\"1109\"},\"ticker\":null},\"id\":\"1112\",\"type\":\"Grid\"},{\"attributes\":{},\"id\":\"1152\",\"type\":\"Selection\"},{\"attributes\":{},\"id\":\"1114\",\"type\":\"BasicTicker\"},{\"attributes\":{\"axis\":{\"id\":\"1113\"},\"dimension\":1,\"ticker\":null},\"id\":\"1116\",\"type\":\"Grid\"},{\"attributes\":{},\"id\":\"1120\",\"type\":\"SaveTool\"},{\"attributes\":{\"line_alpha\":0.1,\"line_color\":\"#1f77b4\",\"x\":{\"field\":\"x\"},\"y\":{\"field\":\"y\"}},\"id\":\"1132\",\"type\":\"Line\"},{\"attributes\":{\"active_drag\":\"auto\",\"active_inspect\":\"auto\",\"active_multi\":null,\"active_scroll\":\"auto\",\"active_tap\":\"auto\",\"tools\":[{\"id\":\"1117\"},{\"id\":\"1118\"},{\"id\":\"1119\"},{\"id\":\"1120\"},{\"id\":\"1121\"},{\"id\":\"1122\"}]},\"id\":\"1123\",\"type\":\"Toolbar\"},{\"attributes\":{},\"id\":\"1146\",\"type\":\"BasicTickFormatter\"},{\"attributes\":{},\"id\":\"1148\",\"type\":\"BasicTickFormatter\"},{\"attributes\":{\"overlay\":{\"id\":\"1150\"}},\"id\":\"1119\",\"type\":\"BoxZoomTool\"}],\"root_ids\":[\"1100\"]},\"title\":\"Bokeh Application\",\"version\":\"2.0.0\"}};\n",
       "  var render_items = [{\"docid\":\"e866ca6e-9ab2-4319-ae66-0aa1a1345000\",\"root_ids\":[\"1100\"],\"roots\":{\"1100\":\"3418dbb9-9456-4d40-a5d7-67d1bfb27b49\"}}];\n",
       "  root.Bokeh.embed.embed_items_notebook(docs_json, render_items);\n",
       "\n",
       "  }\n",
       "  if (root.Bokeh !== undefined) {\n",
       "    embed_document(root);\n",
       "  } else {\n",
       "    var attempts = 0;\n",
       "    var timer = setInterval(function(root) {\n",
       "      if (root.Bokeh !== undefined) {\n",
       "        clearInterval(timer);\n",
       "        embed_document(root);\n",
       "      } else {\n",
       "        attempts++;\n",
       "        if (attempts > 100) {\n",
       "          clearInterval(timer);\n",
       "          console.log(\"Bokeh: ERROR: Unable to run BokehJS code because BokehJS library is missing\");\n",
       "        }\n",
       "      }\n",
       "    }, 10, root)\n",
       "  }\n",
       "})(window);"
      ],
      "application/vnd.bokehjs_exec.v0+json": ""
     },
     "metadata": {
      "application/vnd.bokehjs_exec.v0+json": {
       "id": "1100"
      }
     },
     "output_type": "display_data"
    }
   ],
   "source": [
    "p = figure()\n",
    "p.line(y=d, x=range(len(d)))\n",
    "show(p)"
   ]
  },
  {
   "cell_type": "markdown",
   "metadata": {},
   "source": [
    "次に示すように、複数のグラフをまとめてプロットして表示することもできます。\n",
    "プロットするメソッドではグラフの線の色や線の種類を、`line_color` 引数や `line_dash` 引数で指定できます。\n",
    "また、`legend_label` 引数に値を設定すると、プロットしたグラフが凡例に現れます。\n",
    "引数の詳細は[Figure.line](https://bokeh.pydata.org/en/latest/docs/reference/plotting.html#bokeh.plotting.figure.Figure.line)のページ（英語）を参照してください。"
   ]
  },
  {
   "cell_type": "code",
   "execution_count": 4,
   "metadata": {},
   "outputs": [
    {
     "data": {
      "text/html": [
       "\n",
       "\n",
       "\n",
       "\n",
       "\n",
       "\n",
       "  <div class=\"bk-root\" id=\"68ddfefe-93bd-4634-ab8f-790a8998f536\" data-root-id=\"1207\"></div>\n"
      ]
     },
     "metadata": {},
     "output_type": "display_data"
    },
    {
     "data": {
      "application/javascript": [
       "(function(root) {\n",
       "  function embed_document(root) {\n",
       "    \n",
       "  var docs_json = {\"ad9dca5d-e845-438e-bf5b-07705122e4df\":{\"roots\":{\"references\":[{\"attributes\":{\"below\":[{\"id\":\"1216\"}],\"center\":[{\"id\":\"1219\"},{\"id\":\"1223\"},{\"id\":\"1249\"}],\"left\":[{\"id\":\"1220\"}],\"renderers\":[{\"id\":\"1240\"},{\"id\":\"1254\"}],\"title\":{\"id\":\"1243\"},\"toolbar\":{\"id\":\"1230\"},\"x_range\":{\"id\":\"1208\"},\"x_scale\":{\"id\":\"1212\"},\"y_range\":{\"id\":\"1210\"},\"y_scale\":{\"id\":\"1214\"}},\"id\":\"1207\",\"subtype\":\"Figure\",\"type\":\"Plot\"},{\"attributes\":{\"line_alpha\":0.1,\"line_color\":\"green\",\"line_dash\":[2,4],\"x\":{\"field\":\"x\"},\"y\":{\"field\":\"y\"}},\"id\":\"1253\",\"type\":\"Line\"},{\"attributes\":{},\"id\":\"1294\",\"type\":\"Selection\"},{\"attributes\":{\"label\":{\"value\":\"quad\"},\"renderers\":[{\"id\":\"1254\"}]},\"id\":\"1265\",\"type\":\"LegendItem\"},{\"attributes\":{},\"id\":\"1244\",\"type\":\"BasicTickFormatter\"},{\"attributes\":{\"items\":[{\"id\":\"1250\"},{\"id\":\"1265\"}]},\"id\":\"1249\",\"type\":\"Legend\"},{\"attributes\":{},\"id\":\"1246\",\"type\":\"BasicTickFormatter\"},{\"attributes\":{\"data_source\":{\"id\":\"1237\"},\"glyph\":{\"id\":\"1238\"},\"hover_glyph\":null,\"muted_glyph\":null,\"nonselection_glyph\":{\"id\":\"1239\"},\"selection_glyph\":null,\"view\":{\"id\":\"1241\"}},\"id\":\"1240\",\"type\":\"GlyphRenderer\"},{\"attributes\":{},\"id\":\"1263\",\"type\":\"UnionRenderers\"},{\"attributes\":{\"source\":{\"id\":\"1237\"}},\"id\":\"1241\",\"type\":\"CDSView\"},{\"attributes\":{},\"id\":\"1264\",\"type\":\"Selection\"},{\"attributes\":{\"data_source\":{\"id\":\"1251\"},\"glyph\":{\"id\":\"1252\"},\"hover_glyph\":null,\"muted_glyph\":null,\"nonselection_glyph\":{\"id\":\"1253\"},\"selection_glyph\":null,\"view\":{\"id\":\"1255\"}},\"id\":\"1254\",\"type\":\"GlyphRenderer\"},{\"attributes\":{},\"id\":\"1208\",\"type\":\"DataRange1d\"},{\"attributes\":{\"data\":{\"x\":[0,1,2,3,4],\"y\":[0,1,4,9,16]},\"selected\":{\"id\":\"1294\"},\"selection_policy\":{\"id\":\"1293\"}},\"id\":\"1251\",\"type\":\"ColumnDataSource\"},{\"attributes\":{\"bottom_units\":\"screen\",\"fill_alpha\":0.5,\"fill_color\":\"lightgrey\",\"left_units\":\"screen\",\"level\":\"overlay\",\"line_alpha\":1.0,\"line_color\":\"black\",\"line_dash\":[4,4],\"line_width\":2,\"render_mode\":\"css\",\"right_units\":\"screen\",\"top_units\":\"screen\"},\"id\":\"1248\",\"type\":\"BoxAnnotation\"},{\"attributes\":{\"text\":\"\"},\"id\":\"1243\",\"type\":\"Title\"},{\"attributes\":{\"data\":{\"x\":[0,1,2,3,4],\"y\":[0,1,2,3,4]},\"selected\":{\"id\":\"1264\"},\"selection_policy\":{\"id\":\"1263\"}},\"id\":\"1237\",\"type\":\"ColumnDataSource\"},{\"attributes\":{},\"id\":\"1210\",\"type\":\"DataRange1d\"},{\"attributes\":{},\"id\":\"1212\",\"type\":\"LinearScale\"},{\"attributes\":{\"formatter\":{\"id\":\"1244\"},\"ticker\":{\"id\":\"1217\"}},\"id\":\"1216\",\"type\":\"LinearAxis\"},{\"attributes\":{},\"id\":\"1214\",\"type\":\"LinearScale\"},{\"attributes\":{},\"id\":\"1224\",\"type\":\"PanTool\"},{\"attributes\":{\"label\":{\"value\":\"linear\"},\"renderers\":[{\"id\":\"1240\"}]},\"id\":\"1250\",\"type\":\"LegendItem\"},{\"attributes\":{},\"id\":\"1217\",\"type\":\"BasicTicker\"},{\"attributes\":{\"axis\":{\"id\":\"1216\"},\"ticker\":null},\"id\":\"1219\",\"type\":\"Grid\"},{\"attributes\":{},\"id\":\"1228\",\"type\":\"ResetTool\"},{\"attributes\":{\"formatter\":{\"id\":\"1246\"},\"ticker\":{\"id\":\"1221\"}},\"id\":\"1220\",\"type\":\"LinearAxis\"},{\"attributes\":{\"line_alpha\":0.1,\"line_color\":\"blue\",\"line_dash\":[6],\"x\":{\"field\":\"x\"},\"y\":{\"field\":\"y\"}},\"id\":\"1239\",\"type\":\"Line\"},{\"attributes\":{},\"id\":\"1221\",\"type\":\"BasicTicker\"},{\"attributes\":{\"axis\":{\"id\":\"1220\"},\"dimension\":1,\"ticker\":null},\"id\":\"1223\",\"type\":\"Grid\"},{\"attributes\":{\"active_drag\":\"auto\",\"active_inspect\":\"auto\",\"active_multi\":null,\"active_scroll\":\"auto\",\"active_tap\":\"auto\",\"tools\":[{\"id\":\"1224\"},{\"id\":\"1225\"},{\"id\":\"1226\"},{\"id\":\"1227\"},{\"id\":\"1228\"},{\"id\":\"1229\"}]},\"id\":\"1230\",\"type\":\"Toolbar\"},{\"attributes\":{\"line_color\":\"blue\",\"line_dash\":[6],\"x\":{\"field\":\"x\"},\"y\":{\"field\":\"y\"}},\"id\":\"1238\",\"type\":\"Line\"},{\"attributes\":{},\"id\":\"1225\",\"type\":\"WheelZoomTool\"},{\"attributes\":{},\"id\":\"1293\",\"type\":\"UnionRenderers\"},{\"attributes\":{\"line_color\":\"green\",\"line_dash\":[2,4],\"x\":{\"field\":\"x\"},\"y\":{\"field\":\"y\"}},\"id\":\"1252\",\"type\":\"Line\"},{\"attributes\":{},\"id\":\"1229\",\"type\":\"HelpTool\"},{\"attributes\":{\"overlay\":{\"id\":\"1248\"}},\"id\":\"1226\",\"type\":\"BoxZoomTool\"},{\"attributes\":{},\"id\":\"1227\",\"type\":\"SaveTool\"},{\"attributes\":{\"source\":{\"id\":\"1251\"}},\"id\":\"1255\",\"type\":\"CDSView\"}],\"root_ids\":[\"1207\"]},\"title\":\"Bokeh Application\",\"version\":\"2.0.0\"}};\n",
       "  var render_items = [{\"docid\":\"ad9dca5d-e845-438e-bf5b-07705122e4df\",\"root_ids\":[\"1207\"],\"roots\":{\"1207\":\"68ddfefe-93bd-4634-ab8f-790a8998f536\"}}];\n",
       "  root.Bokeh.embed.embed_items_notebook(docs_json, render_items);\n",
       "\n",
       "  }\n",
       "  if (root.Bokeh !== undefined) {\n",
       "    embed_document(root);\n",
       "  } else {\n",
       "    var attempts = 0;\n",
       "    var timer = setInterval(function(root) {\n",
       "      if (root.Bokeh !== undefined) {\n",
       "        clearInterval(timer);\n",
       "        embed_document(root);\n",
       "      } else {\n",
       "        attempts++;\n",
       "        if (attempts > 100) {\n",
       "          clearInterval(timer);\n",
       "          console.log(\"Bokeh: ERROR: Unable to run BokehJS code because BokehJS library is missing\");\n",
       "        }\n",
       "      }\n",
       "    }, 10, root)\n",
       "  }\n",
       "})(window);"
      ],
      "application/vnd.bokehjs_exec.v0+json": ""
     },
     "metadata": {
      "application/vnd.bokehjs_exec.v0+json": {
       "id": "1207"
      }
     },
     "output_type": "display_data"
    }
   ],
   "source": [
    "data = [0, 1, 4, 9, 16]\n",
    "x = range(len(data))\n",
    "p = figure()\n",
    "p.line(x, x, line_color='blue', legend_label='linear', line_dash='dashed')\n",
    "p.line(x, data, line_color='green', legend_label='quad', line_dash='dotted')\n",
    "show(p)"
   ]
  },
  {
   "cell_type": "markdown",
   "metadata": {},
   "source": [
    "`figure()` 関数の引数に、軸のラベルや、グラフのタイトルを設定できます。\n",
    "プロット点を線グラフ上に重ねたいときには、`circle()` メソッドや `cross()` メソッドで同色の円や十字を追加で描けばよいです。"
   ]
  },
  {
   "cell_type": "code",
   "execution_count": 5,
   "metadata": {
    "scrolled": false
   },
   "outputs": [
    {
     "data": {
      "text/html": [
       "\n",
       "\n",
       "\n",
       "\n",
       "\n",
       "\n",
       "  <div class=\"bk-root\" id=\"c7473f58-9166-4b81-abb6-2b1e4370b12d\" data-root-id=\"1361\"></div>\n"
      ]
     },
     "metadata": {},
     "output_type": "display_data"
    },
    {
     "data": {
      "application/javascript": [
       "(function(root) {\n",
       "  function embed_document(root) {\n",
       "    \n",
       "  var docs_json = {\"797bc12c-a15c-47a0-8029-ac82ea4cc135\":{\"roots\":{\"references\":[{\"attributes\":{\"below\":[{\"id\":\"1372\"}],\"center\":[{\"id\":\"1375\"},{\"id\":\"1379\"},{\"id\":\"1404\"}],\"left\":[{\"id\":\"1376\"}],\"renderers\":[{\"id\":\"1396\"},{\"id\":\"1409\"},{\"id\":\"1414\"},{\"id\":\"1430\"}],\"title\":{\"id\":\"1362\"},\"toolbar\":{\"id\":\"1386\"},\"x_range\":{\"id\":\"1364\"},\"x_scale\":{\"id\":\"1368\"},\"y_range\":{\"id\":\"1366\"},\"y_scale\":{\"id\":\"1370\"}},\"id\":\"1361\",\"subtype\":\"Figure\",\"type\":\"Plot\"},{\"attributes\":{},\"id\":\"1380\",\"type\":\"PanTool\"},{\"attributes\":{},\"id\":\"1385\",\"type\":\"HelpTool\"},{\"attributes\":{\"source\":{\"id\":\"1393\"}},\"id\":\"1397\",\"type\":\"CDSView\"},{\"attributes\":{\"text\":\"Linear vs. Quadratic\"},\"id\":\"1362\",\"type\":\"Title\"},{\"attributes\":{},\"id\":\"1366\",\"type\":\"DataRange1d\"},{\"attributes\":{\"data\":{\"x\":[0,1,2,3,4],\"y\":[0,1,2,3,4]},\"selected\":{\"id\":\"1423\"},\"selection_policy\":{\"id\":\"1422\"}},\"id\":\"1393\",\"type\":\"ColumnDataSource\"},{\"attributes\":{\"data_source\":{\"id\":\"1393\"},\"glyph\":{\"id\":\"1394\"},\"hover_glyph\":null,\"muted_glyph\":null,\"nonselection_glyph\":{\"id\":\"1395\"},\"selection_glyph\":null,\"view\":{\"id\":\"1397\"}},\"id\":\"1396\",\"type\":\"GlyphRenderer\"},{\"attributes\":{},\"id\":\"1373\",\"type\":\"BasicTicker\"},{\"attributes\":{},\"id\":\"1422\",\"type\":\"UnionRenderers\"},{\"attributes\":{\"axis_label\":\"y\",\"formatter\":{\"id\":\"1401\"},\"ticker\":{\"id\":\"1377\"}},\"id\":\"1376\",\"type\":\"LinearAxis\"},{\"attributes\":{},\"id\":\"1423\",\"type\":\"Selection\"},{\"attributes\":{\"fill_color\":{\"value\":\"blue\"},\"line_color\":{\"value\":\"blue\"},\"line_width\":{\"value\":5},\"x\":{\"field\":\"x\"},\"y\":{\"field\":\"y\"}},\"id\":\"1407\",\"type\":\"Circle\"},{\"attributes\":{\"active_drag\":\"auto\",\"active_inspect\":\"auto\",\"active_multi\":null,\"active_scroll\":\"auto\",\"active_tap\":\"auto\",\"tools\":[{\"id\":\"1380\"},{\"id\":\"1381\"},{\"id\":\"1382\"},{\"id\":\"1383\"},{\"id\":\"1384\"},{\"id\":\"1385\"}]},\"id\":\"1386\",\"type\":\"Toolbar\"},{\"attributes\":{},\"id\":\"1364\",\"type\":\"DataRange1d\"},{\"attributes\":{},\"id\":\"1377\",\"type\":\"BasicTicker\"},{\"attributes\":{\"axis_label\":\"x\",\"formatter\":{\"id\":\"1399\"},\"ticker\":{\"id\":\"1373\"}},\"id\":\"1372\",\"type\":\"LinearAxis\"},{\"attributes\":{},\"id\":\"1370\",\"type\":\"LinearScale\"},{\"attributes\":{},\"id\":\"1401\",\"type\":\"BasicTickFormatter\"},{\"attributes\":{},\"id\":\"1368\",\"type\":\"LinearScale\"},{\"attributes\":{},\"id\":\"1471\",\"type\":\"UnionRenderers\"},{\"attributes\":{\"label\":{\"value\":\"linear\"},\"renderers\":[{\"id\":\"1396\"}]},\"id\":\"1405\",\"type\":\"LegendItem\"},{\"attributes\":{},\"id\":\"1424\",\"type\":\"UnionRenderers\"},{\"attributes\":{},\"id\":\"1472\",\"type\":\"Selection\"},{\"attributes\":{},\"id\":\"1425\",\"type\":\"Selection\"},{\"attributes\":{\"line_alpha\":0.1,\"line_color\":\"blue\",\"line_dash\":[6],\"x\":{\"field\":\"x\"},\"y\":{\"field\":\"y\"}},\"id\":\"1395\",\"type\":\"Line\"},{\"attributes\":{\"data\":{\"x\":[0,1,2,3,4],\"y\":[0,1,2,3,4]},\"selected\":{\"id\":\"1425\"},\"selection_policy\":{\"id\":\"1424\"}},\"id\":\"1406\",\"type\":\"ColumnDataSource\"},{\"attributes\":{\"source\":{\"id\":\"1406\"}},\"id\":\"1410\",\"type\":\"CDSView\"},{\"attributes\":{\"data\":{\"x\":[0,1,2,3,4],\"y\":[0,1,4,9,16]},\"selected\":{\"id\":\"1472\"},\"selection_policy\":{\"id\":\"1471\"}},\"id\":\"1411\",\"type\":\"ColumnDataSource\"},{\"attributes\":{\"axis\":{\"id\":\"1376\"},\"dimension\":1,\"ticker\":null},\"id\":\"1379\",\"type\":\"Grid\"},{\"attributes\":{\"fill_alpha\":{\"value\":0.1},\"fill_color\":{\"value\":\"blue\"},\"line_alpha\":{\"value\":0.1},\"line_color\":{\"value\":\"blue\"},\"line_width\":{\"value\":5},\"x\":{\"field\":\"x\"},\"y\":{\"field\":\"y\"}},\"id\":\"1408\",\"type\":\"Circle\"},{\"attributes\":{},\"id\":\"1399\",\"type\":\"BasicTickFormatter\"},{\"attributes\":{\"data_source\":{\"id\":\"1411\"},\"glyph\":{\"id\":\"1412\"},\"hover_glyph\":null,\"muted_glyph\":null,\"nonselection_glyph\":{\"id\":\"1413\"},\"selection_glyph\":null,\"view\":{\"id\":\"1415\"}},\"id\":\"1414\",\"type\":\"GlyphRenderer\"},{\"attributes\":{},\"id\":\"1381\",\"type\":\"WheelZoomTool\"},{\"attributes\":{\"overlay\":{\"id\":\"1403\"}},\"id\":\"1382\",\"type\":\"BoxZoomTool\"},{\"attributes\":{\"line_color\":\"green\",\"line_dash\":[2,4],\"x\":{\"field\":\"x\"},\"y\":{\"field\":\"y\"}},\"id\":\"1412\",\"type\":\"Line\"},{\"attributes\":{},\"id\":\"1383\",\"type\":\"SaveTool\"},{\"attributes\":{},\"id\":\"1473\",\"type\":\"UnionRenderers\"},{\"attributes\":{\"data_source\":{\"id\":\"1406\"},\"glyph\":{\"id\":\"1407\"},\"hover_glyph\":null,\"muted_glyph\":null,\"nonselection_glyph\":{\"id\":\"1408\"},\"selection_glyph\":null,\"view\":{\"id\":\"1410\"}},\"id\":\"1409\",\"type\":\"GlyphRenderer\"},{\"attributes\":{},\"id\":\"1384\",\"type\":\"ResetTool\"},{\"attributes\":{},\"id\":\"1474\",\"type\":\"Selection\"},{\"attributes\":{\"axis\":{\"id\":\"1372\"},\"ticker\":null},\"id\":\"1375\",\"type\":\"Grid\"},{\"attributes\":{\"fill_color\":{\"value\":\"green\"},\"line_color\":{\"value\":\"green\"},\"size\":{\"units\":\"screen\",\"value\":16},\"x\":{\"field\":\"x\"},\"y\":{\"field\":\"y\"}},\"id\":\"1428\",\"type\":\"Cross\"},{\"attributes\":{\"line_color\":\"blue\",\"line_dash\":[6],\"x\":{\"field\":\"x\"},\"y\":{\"field\":\"y\"}},\"id\":\"1394\",\"type\":\"Line\"},{\"attributes\":{\"data\":{\"x\":[0,1,2,3,4],\"y\":[0,1,4,9,16]},\"selected\":{\"id\":\"1474\"},\"selection_policy\":{\"id\":\"1473\"}},\"id\":\"1427\",\"type\":\"ColumnDataSource\"},{\"attributes\":{\"source\":{\"id\":\"1411\"}},\"id\":\"1415\",\"type\":\"CDSView\"},{\"attributes\":{\"line_alpha\":0.1,\"line_color\":\"green\",\"line_dash\":[2,4],\"x\":{\"field\":\"x\"},\"y\":{\"field\":\"y\"}},\"id\":\"1413\",\"type\":\"Line\"},{\"attributes\":{\"label\":{\"value\":\"quad\"},\"renderers\":[{\"id\":\"1414\"}]},\"id\":\"1426\",\"type\":\"LegendItem\"},{\"attributes\":{\"source\":{\"id\":\"1427\"}},\"id\":\"1431\",\"type\":\"CDSView\"},{\"attributes\":{\"fill_alpha\":{\"value\":0.1},\"fill_color\":{\"value\":\"green\"},\"line_alpha\":{\"value\":0.1},\"line_color\":{\"value\":\"green\"},\"size\":{\"units\":\"screen\",\"value\":16},\"x\":{\"field\":\"x\"},\"y\":{\"field\":\"y\"}},\"id\":\"1429\",\"type\":\"Cross\"},{\"attributes\":{\"items\":[{\"id\":\"1405\"},{\"id\":\"1426\"}]},\"id\":\"1404\",\"type\":\"Legend\"},{\"attributes\":{\"bottom_units\":\"screen\",\"fill_alpha\":0.5,\"fill_color\":\"lightgrey\",\"left_units\":\"screen\",\"level\":\"overlay\",\"line_alpha\":1.0,\"line_color\":\"black\",\"line_dash\":[4,4],\"line_width\":2,\"render_mode\":\"css\",\"right_units\":\"screen\",\"top_units\":\"screen\"},\"id\":\"1403\",\"type\":\"BoxAnnotation\"},{\"attributes\":{\"data_source\":{\"id\":\"1427\"},\"glyph\":{\"id\":\"1428\"},\"hover_glyph\":null,\"muted_glyph\":null,\"nonselection_glyph\":{\"id\":\"1429\"},\"selection_glyph\":null,\"view\":{\"id\":\"1431\"}},\"id\":\"1430\",\"type\":\"GlyphRenderer\"}],\"root_ids\":[\"1361\"]},\"title\":\"Bokeh Application\",\"version\":\"2.0.0\"}};\n",
       "  var render_items = [{\"docid\":\"797bc12c-a15c-47a0-8029-ac82ea4cc135\",\"root_ids\":[\"1361\"],\"roots\":{\"1361\":\"c7473f58-9166-4b81-abb6-2b1e4370b12d\"}}];\n",
       "  root.Bokeh.embed.embed_items_notebook(docs_json, render_items);\n",
       "\n",
       "  }\n",
       "  if (root.Bokeh !== undefined) {\n",
       "    embed_document(root);\n",
       "  } else {\n",
       "    var attempts = 0;\n",
       "    var timer = setInterval(function(root) {\n",
       "      if (root.Bokeh !== undefined) {\n",
       "        clearInterval(timer);\n",
       "        embed_document(root);\n",
       "      } else {\n",
       "        attempts++;\n",
       "        if (attempts > 100) {\n",
       "          clearInterval(timer);\n",
       "          console.log(\"Bokeh: ERROR: Unable to run BokehJS code because BokehJS library is missing\");\n",
       "        }\n",
       "      }\n",
       "    }, 10, root)\n",
       "  }\n",
       "})(window);"
      ],
      "application/vnd.bokehjs_exec.v0+json": ""
     },
     "metadata": {
      "application/vnd.bokehjs_exec.v0+json": {
       "id": "1361"
      }
     },
     "output_type": "display_data"
    }
   ],
   "source": [
    "p = figure(x_axis_label='x', y_axis_label='y', title='Linear vs. Quadratic')\n",
    "p.line(x, x, line_color='blue', legend_label='linear', line_dash='dashed')\n",
    "p.circle(x, x, color='blue', line_width=5)\n",
    "p.line(x, data, line_color='green', legend_label='quad', line_dash='dotted')\n",
    "p.cross(x, data, color='green', size=16)\n",
    "show(p)"
   ]
  },
  {
   "cell_type": "markdown",
   "metadata": {},
   "source": [
    "色の使い分けをすべて自分で決めるのは面倒です。\n",
    "良く使われる色のリストがパレットとして、提供されています。\n",
    "次は、`d3` の `Category10` という種類の3色パレットを用いています。\n",
    "詳細は、[palette](https://bokeh.pydata.org/en/latest/docs/reference/palettes.html)のページを参照してください。"
   ]
  },
  {
   "cell_type": "code",
   "execution_count": 6,
   "metadata": {},
   "outputs": [
    {
     "data": {
      "text/html": [
       "\n",
       "\n",
       "\n",
       "\n",
       "\n",
       "\n",
       "  <div class=\"bk-root\" id=\"2752e4dd-0fbb-4c90-9798-d6aa7a52e2c8\" data-root-id=\"1559\"></div>\n"
      ]
     },
     "metadata": {},
     "output_type": "display_data"
    },
    {
     "data": {
      "application/javascript": [
       "(function(root) {\n",
       "  function embed_document(root) {\n",
       "    \n",
       "  var docs_json = {\"7b95da4f-5b0b-4a7b-afb5-04ad50b69ad6\":{\"roots\":{\"references\":[{\"attributes\":{\"below\":[{\"id\":\"1570\"}],\"center\":[{\"id\":\"1573\"},{\"id\":\"1577\"},{\"id\":\"1602\"}],\"left\":[{\"id\":\"1574\"}],\"renderers\":[{\"id\":\"1594\"},{\"id\":\"1607\"},{\"id\":\"1612\"},{\"id\":\"1628\"}],\"title\":{\"id\":\"1560\"},\"toolbar\":{\"id\":\"1584\"},\"x_range\":{\"id\":\"1562\"},\"x_scale\":{\"id\":\"1566\"},\"y_range\":{\"id\":\"1564\"},\"y_scale\":{\"id\":\"1568\"}},\"id\":\"1559\",\"subtype\":\"Figure\",\"type\":\"Plot\"},{\"attributes\":{},\"id\":\"1597\",\"type\":\"BasicTickFormatter\"},{\"attributes\":{\"source\":{\"id\":\"1625\"}},\"id\":\"1629\",\"type\":\"CDSView\"},{\"attributes\":{},\"id\":\"1583\",\"type\":\"HelpTool\"},{\"attributes\":{\"label\":{\"value\":\"quad\"},\"renderers\":[{\"id\":\"1612\"}]},\"id\":\"1624\",\"type\":\"LegendItem\"},{\"attributes\":{\"overlay\":{\"id\":\"1601\"}},\"id\":\"1580\",\"type\":\"BoxZoomTool\"},{\"attributes\":{\"fill_alpha\":{\"value\":0.1},\"fill_color\":{\"value\":\"#ff7f0e\"},\"line_alpha\":{\"value\":0.1},\"line_color\":{\"value\":\"#ff7f0e\"},\"size\":{\"units\":\"screen\",\"value\":16},\"x\":{\"field\":\"x\"},\"y\":{\"field\":\"y\"}},\"id\":\"1627\",\"type\":\"Cross\"},{\"attributes\":{\"data\":{\"x\":[0,1,2,3,4],\"y\":[0,1,4,9,16]},\"selected\":{\"id\":\"1686\"},\"selection_policy\":{\"id\":\"1685\"}},\"id\":\"1625\",\"type\":\"ColumnDataSource\"},{\"attributes\":{},\"id\":\"1581\",\"type\":\"SaveTool\"},{\"attributes\":{},\"id\":\"1599\",\"type\":\"BasicTickFormatter\"},{\"attributes\":{},\"id\":\"1582\",\"type\":\"ResetTool\"},{\"attributes\":{\"active_drag\":\"auto\",\"active_inspect\":\"auto\",\"active_multi\":null,\"active_scroll\":\"auto\",\"active_tap\":\"auto\",\"tools\":[{\"id\":\"1578\"},{\"id\":\"1579\"},{\"id\":\"1580\"},{\"id\":\"1581\"},{\"id\":\"1582\"},{\"id\":\"1583\"}]},\"id\":\"1584\",\"type\":\"Toolbar\"},{\"attributes\":{\"line_alpha\":0.1,\"line_color\":\"#1f77b4\",\"line_dash\":[6],\"x\":{\"field\":\"x\"},\"y\":{\"field\":\"y\"}},\"id\":\"1593\",\"type\":\"Line\"},{\"attributes\":{\"data_source\":{\"id\":\"1625\"},\"glyph\":{\"id\":\"1626\"},\"hover_glyph\":null,\"muted_glyph\":null,\"nonselection_glyph\":{\"id\":\"1627\"},\"selection_glyph\":null,\"view\":{\"id\":\"1629\"}},\"id\":\"1628\",\"type\":\"GlyphRenderer\"},{\"attributes\":{\"line_color\":\"#1f77b4\",\"line_dash\":[6],\"x\":{\"field\":\"x\"},\"y\":{\"field\":\"y\"}},\"id\":\"1592\",\"type\":\"Line\"},{\"attributes\":{\"data_source\":{\"id\":\"1604\"},\"glyph\":{\"id\":\"1605\"},\"hover_glyph\":null,\"muted_glyph\":null,\"nonselection_glyph\":{\"id\":\"1606\"},\"selection_glyph\":null,\"view\":{\"id\":\"1608\"}},\"id\":\"1607\",\"type\":\"GlyphRenderer\"},{\"attributes\":{\"source\":{\"id\":\"1591\"}},\"id\":\"1595\",\"type\":\"CDSView\"},{\"attributes\":{\"bottom_units\":\"screen\",\"fill_alpha\":0.5,\"fill_color\":\"lightgrey\",\"left_units\":\"screen\",\"level\":\"overlay\",\"line_alpha\":1.0,\"line_color\":\"black\",\"line_dash\":[4,4],\"line_width\":2,\"render_mode\":\"css\",\"right_units\":\"screen\",\"top_units\":\"screen\"},\"id\":\"1601\",\"type\":\"BoxAnnotation\"},{\"attributes\":{\"items\":[{\"id\":\"1603\"},{\"id\":\"1624\"}]},\"id\":\"1602\",\"type\":\"Legend\"},{\"attributes\":{},\"id\":\"1620\",\"type\":\"UnionRenderers\"},{\"attributes\":{},\"id\":\"1621\",\"type\":\"Selection\"},{\"attributes\":{},\"id\":\"1578\",\"type\":\"PanTool\"},{\"attributes\":{},\"id\":\"1683\",\"type\":\"UnionRenderers\"},{\"attributes\":{},\"id\":\"1566\",\"type\":\"LinearScale\"},{\"attributes\":{},\"id\":\"1684\",\"type\":\"Selection\"},{\"attributes\":{\"axis\":{\"id\":\"1570\"},\"ticker\":null},\"id\":\"1573\",\"type\":\"Grid\"},{\"attributes\":{\"data_source\":{\"id\":\"1591\"},\"glyph\":{\"id\":\"1592\"},\"hover_glyph\":null,\"muted_glyph\":null,\"nonselection_glyph\":{\"id\":\"1593\"},\"selection_glyph\":null,\"view\":{\"id\":\"1595\"}},\"id\":\"1594\",\"type\":\"GlyphRenderer\"},{\"attributes\":{\"data\":{\"x\":[0,1,2,3,4],\"y\":[0,1,2,3,4]},\"selected\":{\"id\":\"1621\"},\"selection_policy\":{\"id\":\"1620\"}},\"id\":\"1591\",\"type\":\"ColumnDataSource\"},{\"attributes\":{\"label\":{\"value\":\"linear\"},\"renderers\":[{\"id\":\"1594\"}]},\"id\":\"1603\",\"type\":\"LegendItem\"},{\"attributes\":{},\"id\":\"1622\",\"type\":\"UnionRenderers\"},{\"attributes\":{\"text\":\"Linear vs. Quadratic\"},\"id\":\"1560\",\"type\":\"Title\"},{\"attributes\":{\"line_color\":\"#ff7f0e\",\"line_dash\":[2,4],\"x\":{\"field\":\"x\"},\"y\":{\"field\":\"y\"}},\"id\":\"1610\",\"type\":\"Line\"},{\"attributes\":{},\"id\":\"1623\",\"type\":\"Selection\"},{\"attributes\":{\"fill_color\":{\"value\":\"#1f77b4\"},\"line_color\":{\"value\":\"#1f77b4\"},\"line_width\":{\"value\":5},\"x\":{\"field\":\"x\"},\"y\":{\"field\":\"y\"}},\"id\":\"1605\",\"type\":\"Circle\"},{\"attributes\":{\"data\":{\"x\":[0,1,2,3,4],\"y\":[0,1,2,3,4]},\"selected\":{\"id\":\"1623\"},\"selection_policy\":{\"id\":\"1622\"}},\"id\":\"1604\",\"type\":\"ColumnDataSource\"},{\"attributes\":{},\"id\":\"1562\",\"type\":\"DataRange1d\"},{\"attributes\":{\"source\":{\"id\":\"1604\"}},\"id\":\"1608\",\"type\":\"CDSView\"},{\"attributes\":{\"data\":{\"x\":[0,1,2,3,4],\"y\":[0,1,4,9,16]},\"selected\":{\"id\":\"1684\"},\"selection_policy\":{\"id\":\"1683\"}},\"id\":\"1609\",\"type\":\"ColumnDataSource\"},{\"attributes\":{},\"id\":\"1571\",\"type\":\"BasicTicker\"},{\"attributes\":{\"axis_label\":\"y\",\"formatter\":{\"id\":\"1599\"},\"ticker\":{\"id\":\"1575\"}},\"id\":\"1574\",\"type\":\"LinearAxis\"},{\"attributes\":{\"fill_alpha\":{\"value\":0.1},\"fill_color\":{\"value\":\"#1f77b4\"},\"line_alpha\":{\"value\":0.1},\"line_color\":{\"value\":\"#1f77b4\"},\"line_width\":{\"value\":5},\"x\":{\"field\":\"x\"},\"y\":{\"field\":\"y\"}},\"id\":\"1606\",\"type\":\"Circle\"},{\"attributes\":{},\"id\":\"1685\",\"type\":\"UnionRenderers\"},{\"attributes\":{},\"id\":\"1564\",\"type\":\"DataRange1d\"},{\"attributes\":{\"data_source\":{\"id\":\"1609\"},\"glyph\":{\"id\":\"1610\"},\"hover_glyph\":null,\"muted_glyph\":null,\"nonselection_glyph\":{\"id\":\"1611\"},\"selection_glyph\":null,\"view\":{\"id\":\"1613\"}},\"id\":\"1612\",\"type\":\"GlyphRenderer\"},{\"attributes\":{},\"id\":\"1686\",\"type\":\"Selection\"},{\"attributes\":{\"axis_label\":\"x\",\"formatter\":{\"id\":\"1597\"},\"ticker\":{\"id\":\"1571\"}},\"id\":\"1570\",\"type\":\"LinearAxis\"},{\"attributes\":{\"line_alpha\":0.1,\"line_color\":\"#ff7f0e\",\"line_dash\":[2,4],\"x\":{\"field\":\"x\"},\"y\":{\"field\":\"y\"}},\"id\":\"1611\",\"type\":\"Line\"},{\"attributes\":{},\"id\":\"1568\",\"type\":\"LinearScale\"},{\"attributes\":{\"axis\":{\"id\":\"1574\"},\"dimension\":1,\"ticker\":null},\"id\":\"1577\",\"type\":\"Grid\"},{\"attributes\":{\"source\":{\"id\":\"1609\"}},\"id\":\"1613\",\"type\":\"CDSView\"},{\"attributes\":{},\"id\":\"1575\",\"type\":\"BasicTicker\"},{\"attributes\":{},\"id\":\"1579\",\"type\":\"WheelZoomTool\"},{\"attributes\":{\"fill_color\":{\"value\":\"#ff7f0e\"},\"line_color\":{\"value\":\"#ff7f0e\"},\"size\":{\"units\":\"screen\",\"value\":16},\"x\":{\"field\":\"x\"},\"y\":{\"field\":\"y\"}},\"id\":\"1626\",\"type\":\"Cross\"}],\"root_ids\":[\"1559\"]},\"title\":\"Bokeh Application\",\"version\":\"2.0.0\"}};\n",
       "  var render_items = [{\"docid\":\"7b95da4f-5b0b-4a7b-afb5-04ad50b69ad6\",\"root_ids\":[\"1559\"],\"roots\":{\"1559\":\"2752e4dd-0fbb-4c90-9798-d6aa7a52e2c8\"}}];\n",
       "  root.Bokeh.embed.embed_items_notebook(docs_json, render_items);\n",
       "\n",
       "  }\n",
       "  if (root.Bokeh !== undefined) {\n",
       "    embed_document(root);\n",
       "  } else {\n",
       "    var attempts = 0;\n",
       "    var timer = setInterval(function(root) {\n",
       "      if (root.Bokeh !== undefined) {\n",
       "        clearInterval(timer);\n",
       "        embed_document(root);\n",
       "      } else {\n",
       "        attempts++;\n",
       "        if (attempts > 100) {\n",
       "          clearInterval(timer);\n",
       "          console.log(\"Bokeh: ERROR: Unable to run BokehJS code because BokehJS library is missing\");\n",
       "        }\n",
       "      }\n",
       "    }, 10, root)\n",
       "  }\n",
       "})(window);"
      ],
      "application/vnd.bokehjs_exec.v0+json": ""
     },
     "metadata": {
      "application/vnd.bokehjs_exec.v0+json": {
       "id": "1559"
      }
     },
     "output_type": "display_data"
    }
   ],
   "source": [
    "from bokeh.palettes import d3\n",
    "c = d3['Category10'][3]\n",
    "p = figure(x_axis_label='x', y_axis_label='y', title='Linear vs. Quadratic')\n",
    "p.line(x, x, line_color=c[0], legend_label='linear', line_dash='dashed')\n",
    "p.circle(x, x, color=c[0], line_width=5)\n",
    "p.line(x, data, line_color=c[1], legend_label='quad', line_dash='dotted')\n",
    "p.cross(x, data, color=c[1], size=16)\n",
    "show(p)"
   ]
  },
  {
   "cell_type": "markdown",
   "metadata": {},
   "source": [
    "グラフを描画するときのプロット数を増やすことで任意の曲線のグラフを作成することもできます。\n",
    "次の例では、`numpy` モジュールの `arange()` 関数を用いて、$- \\pi$ から $\\pi$ の範囲を `0.1` 刻みでx軸の値を配列として準備しています。\n",
    "そのx軸の値に対して、`numpy` モジュールの `cos()` 関数と `sin()` 関数を用いて、y軸の値をそれぞれ準備し、cosカーブとsinカーブを描画しています。"
   ]
  },
  {
   "cell_type": "code",
   "execution_count": 7,
   "metadata": {},
   "outputs": [
    {
     "data": {
      "text/html": [
       "\n",
       "\n",
       "\n",
       "\n",
       "\n",
       "\n",
       "  <div class=\"bk-root\" id=\"40eaea08-da8e-4b2c-8b14-41ffecb022d9\" data-root-id=\"1771\"></div>\n"
      ]
     },
     "metadata": {},
     "output_type": "display_data"
    },
    {
     "data": {
      "application/javascript": [
       "(function(root) {\n",
       "  function embed_document(root) {\n",
       "    \n",
       "  var docs_json = {\"550aac7a-3d16-4429-87a8-179a86bd03d4\":{\"roots\":{\"references\":[{\"attributes\":{\"below\":[{\"id\":\"1782\"}],\"center\":[{\"id\":\"1785\"},{\"id\":\"1789\"}],\"left\":[{\"id\":\"1786\"}],\"renderers\":[{\"id\":\"1806\"},{\"id\":\"1811\"}],\"title\":{\"id\":\"1772\"},\"toolbar\":{\"id\":\"1796\"},\"x_range\":{\"id\":\"1774\"},\"x_scale\":{\"id\":\"1778\"},\"y_range\":{\"id\":\"1776\"},\"y_scale\":{\"id\":\"1780\"}},\"id\":\"1771\",\"subtype\":\"Figure\",\"type\":\"Plot\"},{\"attributes\":{},\"id\":\"1790\",\"type\":\"PanTool\"},{\"attributes\":{},\"id\":\"1878\",\"type\":\"UnionRenderers\"},{\"attributes\":{},\"id\":\"1793\",\"type\":\"SaveTool\"},{\"attributes\":{},\"id\":\"1774\",\"type\":\"DataRange1d\"},{\"attributes\":{},\"id\":\"1794\",\"type\":\"ResetTool\"},{\"attributes\":{},\"id\":\"1778\",\"type\":\"LinearScale\"},{\"attributes\":{\"overlay\":{\"id\":\"1875\"}},\"id\":\"1792\",\"type\":\"BoxZoomTool\"},{\"attributes\":{},\"id\":\"1795\",\"type\":\"HelpTool\"},{\"attributes\":{\"axis\":{\"id\":\"1786\"},\"dimension\":1,\"ticker\":null},\"id\":\"1789\",\"type\":\"Grid\"},{\"attributes\":{},\"id\":\"1791\",\"type\":\"WheelZoomTool\"},{\"attributes\":{\"axis\":{\"id\":\"1782\"},\"ticker\":null},\"id\":\"1785\",\"type\":\"Grid\"},{\"attributes\":{\"active_drag\":\"auto\",\"active_inspect\":\"auto\",\"active_multi\":null,\"active_scroll\":\"auto\",\"active_tap\":\"auto\",\"tools\":[{\"id\":\"1790\"},{\"id\":\"1791\"},{\"id\":\"1792\"},{\"id\":\"1793\"},{\"id\":\"1794\"},{\"id\":\"1795\"}]},\"id\":\"1796\",\"type\":\"Toolbar\"},{\"attributes\":{\"line_color\":\"#1f77b4\",\"x\":{\"field\":\"x\"},\"y\":{\"field\":\"y\"}},\"id\":\"1804\",\"type\":\"Line\"},{\"attributes\":{},\"id\":\"1879\",\"type\":\"Selection\"},{\"attributes\":{},\"id\":\"1780\",\"type\":\"LinearScale\"},{\"attributes\":{\"data\":{\"x\":{\"__ndarray__\":\"GC1EVPshCcBLYHeHLlUIwH6TqrphiAfAscbd7ZS7BsDk+RAhyO4FwBctRFT7IQXASmB3hy5VBMB9k6q6YYgDwLDG3e2UuwLA4/kQIcjuAcAWLURU+yEBwElgd4cuVQDA+CZVdcMQ/79ejbvbKXf9v8TzIUKQ3fu/KlqIqPZD+r+QwO4OXar4v/YmVXXDEPe/XI272yl39b/C8yFCkN3zvyhaiKj2Q/K/jsDuDl2q8L/oTarqhiHuv7Qad7dT7uq/gOdDhCC7579MtBBR7YfkvxiB3R26VOG/yJtU1Q1D3L9gNe5up9zVv/CdDxGC7M6/INFCRLUfwr9AEdjdoUulvwAiW1WR560/UJUjIrFGxD8QMXj3vonQP3iX3l0l8NY/4P1ExItW3T8kslUVed7hP1jliEisEeU/jBi8e99E6D/AS++uEnjrP/B+IuJFq+4/FNmqijzv8D+wckQk1ojyP0gM3r1vIvQ/4KV3Vwm89T98PxHxolX3PxjZqoo87/g/sHJEJNaI+j9IDN69byL8P+Sld1cJvP0/gD8R8aJV/z+MbFVFnncAQFg5IhJrRAFAJgbv3jcRAkD00rurBN4CQMCfiHjRqgNAjGxVRZ53BEBaOSISa0QFQCgG7943EQZA9NK7qwTeBkDAn4h40aoHQI5sVUWedwhA\",\"dtype\":\"float64\",\"shape\":[63]},\"y\":{\"__ndarray__\":\"AAAAAAAA8L/AF6j5Etfvv3pid5W0XO+/uQkv1B2S7r/2otvnVHntv019WwYoFey/EVtIPCZp6r+OnZ9Slnnov2CYcd5rS+a/FuKSljrk47+EBrUPKErhvwFhxwa4B92/v3k7lN4w179KTCposx7Rv9dWE7x7wcW/P/nFT9Ubsr/WF1/FeuadP8JsovT5fcA/tA4lT/UUzT/LRTS5xrDUPyRyU1cmoto/2J6YBLMn4D9+rYhLANXiP/AvMBciUuU/k9GQtLqY5z+Ki4Xv96LpP3v0gPaha+s/rwNmsyju7D9TcFd3rybuP89Ao9sWEu8/1uWFvgSu7z8lplZH6vjvP7TLueIH8u8/sgunLG+Z7z/8vV7DAvDuP1UawQN09+0/TCzStD6y7D8o2X2toiPrP9ao24SbT+k/08g0YtY65z+oJNsGpurkP08tajD1ZOI/48aK7G5g3z8IOxaSsabZP2vCYnxXq9M/6TxYVFv7yj+DjFkrB7a8P+1fUEM6X4k/h0FOWFVmtr/mFnwno9/HvyhLa3CFJ9K/91zkjskw2L83azdZLfzdv/cydD9vveG/q7Alb2dP5L9r1Ac8bK3mv54Kg4hv0ei/Qf4Nlve16r86cqcGLVbsvztQ+T7nre2/AyN4Cbe57r+7mElf73bvv9KpeUCs4++/\",\"dtype\":\"float64\",\"shape\":[63]}},\"selected\":{\"id\":\"1877\"},\"selection_policy\":{\"id\":\"1876\"}},\"id\":\"1803\",\"type\":\"ColumnDataSource\"},{\"attributes\":{},\"id\":\"1787\",\"type\":\"BasicTicker\"},{\"attributes\":{\"data\":{\"x\":{\"__ndarray__\":\"GC1EVPshCcBLYHeHLlUIwH6TqrphiAfAscbd7ZS7BsDk+RAhyO4FwBctRFT7IQXASmB3hy5VBMB9k6q6YYgDwLDG3e2UuwLA4/kQIcjuAcAWLURU+yEBwElgd4cuVQDA+CZVdcMQ/79ejbvbKXf9v8TzIUKQ3fu/KlqIqPZD+r+QwO4OXar4v/YmVXXDEPe/XI272yl39b/C8yFCkN3zvyhaiKj2Q/K/jsDuDl2q8L/oTarqhiHuv7Qad7dT7uq/gOdDhCC7579MtBBR7YfkvxiB3R26VOG/yJtU1Q1D3L9gNe5up9zVv/CdDxGC7M6/INFCRLUfwr9AEdjdoUulvwAiW1WR560/UJUjIrFGxD8QMXj3vonQP3iX3l0l8NY/4P1ExItW3T8kslUVed7hP1jliEisEeU/jBi8e99E6D/AS++uEnjrP/B+IuJFq+4/FNmqijzv8D+wckQk1ojyP0gM3r1vIvQ/4KV3Vwm89T98PxHxolX3PxjZqoo87/g/sHJEJNaI+j9IDN69byL8P+Sld1cJvP0/gD8R8aJV/z+MbFVFnncAQFg5IhJrRAFAJgbv3jcRAkD00rurBN4CQMCfiHjRqgNAjGxVRZ53BEBaOSISa0QFQCgG7943EQZA9NK7qwTeBkDAn4h40aoHQI5sVUWedwhA\",\"dtype\":\"float64\",\"shape\":[63]},\"y\":{\"__ndarray__\":\"B1wUMyamobw7y4vLro65v8fSPSP/bcm/Orq6lc3p0r9yZyvpOuzYv/kFS3Tort6/XkGlF40R4r+9GUZpbp3kv9L+v8KU9Oa/RqhdmAMR6b/zDAmPVO3qvzxjLUzFhOy/yFUaokPT7b9OHsX5d9XuvwThRN/NiO+/jG0sm3rr77/FQuDHgfzvv7WYL9e3u++/7RW9gcIp779SOBofF0juvz+00er2GO2/83LrP2mf67/+1qrZM9/pvxYvWC3R3Oe/jNHD9WSd5b+gys8Nrybjv6mFoLv8fuC/5qYkJDFa27+Y5V0jcnDVv4EwSNa4n86/+NS2bTgQwr+dDpiCD0qlv8Mu6Dk3460/+gy3ygIxxD+kTP8QyVrQP1Ziun47c9Y/JdLwQ0FS3D9ZGy7savTgP7fA7P9WlOM/47MfLS4C5j/EHtzduTfoP8vI4npTL+o/6BLQ3/Lj6z82igE6O1HtP/ooRTGGc+4/h0DHPe1H7z++7F0TUczvP1PsNw9f/+8//D0MmpTg7z+e6yJ2QHDvPyeZ4PWBr+4/qSLYHEag7T/EJLqyQkXsPyQSvFTvoeo/VgUyl3y66D80sApOyZPmP5X1lhdWM+Q/fsd6STef4T+B347HCrzdP8C8C2SY7dc/YqKwivHh0T+6+jPXGVHHP5bLvttYRbU/\",\"dtype\":\"float64\",\"shape\":[63]}},\"selected\":{\"id\":\"1879\"},\"selection_policy\":{\"id\":\"1878\"}},\"id\":\"1808\",\"type\":\"ColumnDataSource\"},{\"attributes\":{\"line_alpha\":0.1,\"line_color\":\"#1f77b4\",\"x\":{\"field\":\"x\"},\"y\":{\"field\":\"y\"}},\"id\":\"1805\",\"type\":\"Line\"},{\"attributes\":{\"data_source\":{\"id\":\"1808\"},\"glyph\":{\"id\":\"1809\"},\"hover_glyph\":null,\"muted_glyph\":null,\"nonselection_glyph\":{\"id\":\"1810\"},\"selection_glyph\":null,\"view\":{\"id\":\"1812\"}},\"id\":\"1811\",\"type\":\"GlyphRenderer\"},{\"attributes\":{\"source\":{\"id\":\"1803\"}},\"id\":\"1807\",\"type\":\"CDSView\"},{\"attributes\":{},\"id\":\"1871\",\"type\":\"BasicTickFormatter\"},{\"attributes\":{\"line_color\":\"#ff7f0e\",\"x\":{\"field\":\"x\"},\"y\":{\"field\":\"y\"}},\"id\":\"1809\",\"type\":\"Line\"},{\"attributes\":{\"source\":{\"id\":\"1808\"}},\"id\":\"1812\",\"type\":\"CDSView\"},{\"attributes\":{},\"id\":\"1873\",\"type\":\"BasicTickFormatter\"},{\"attributes\":{},\"id\":\"1876\",\"type\":\"UnionRenderers\"},{\"attributes\":{\"line_alpha\":0.1,\"line_color\":\"#ff7f0e\",\"x\":{\"field\":\"x\"},\"y\":{\"field\":\"y\"}},\"id\":\"1810\",\"type\":\"Line\"},{\"attributes\":{\"axis_label\":\"x\",\"formatter\":{\"id\":\"1871\"},\"ticker\":{\"id\":\"1783\"}},\"id\":\"1782\",\"type\":\"LinearAxis\"},{\"attributes\":{\"bottom_units\":\"screen\",\"fill_alpha\":0.5,\"fill_color\":\"lightgrey\",\"left_units\":\"screen\",\"level\":\"overlay\",\"line_alpha\":1.0,\"line_color\":\"black\",\"line_dash\":[4,4],\"line_width\":2,\"render_mode\":\"css\",\"right_units\":\"screen\",\"top_units\":\"screen\"},\"id\":\"1875\",\"type\":\"BoxAnnotation\"},{\"attributes\":{},\"id\":\"1877\",\"type\":\"Selection\"},{\"attributes\":{\"text\":\"cos and sin Curves\"},\"id\":\"1772\",\"type\":\"Title\"},{\"attributes\":{},\"id\":\"1776\",\"type\":\"DataRange1d\"},{\"attributes\":{},\"id\":\"1783\",\"type\":\"BasicTicker\"},{\"attributes\":{\"axis_label\":\"y\",\"formatter\":{\"id\":\"1873\"},\"ticker\":{\"id\":\"1787\"}},\"id\":\"1786\",\"type\":\"LinearAxis\"},{\"attributes\":{\"data_source\":{\"id\":\"1803\"},\"glyph\":{\"id\":\"1804\"},\"hover_glyph\":null,\"muted_glyph\":null,\"nonselection_glyph\":{\"id\":\"1805\"},\"selection_glyph\":null,\"view\":{\"id\":\"1807\"}},\"id\":\"1806\",\"type\":\"GlyphRenderer\"}],\"root_ids\":[\"1771\"]},\"title\":\"Bokeh Application\",\"version\":\"2.0.0\"}};\n",
       "  var render_items = [{\"docid\":\"550aac7a-3d16-4429-87a8-179a86bd03d4\",\"root_ids\":[\"1771\"],\"roots\":{\"1771\":\"40eaea08-da8e-4b2c-8b14-41ffecb022d9\"}}];\n",
       "  root.Bokeh.embed.embed_items_notebook(docs_json, render_items);\n",
       "\n",
       "  }\n",
       "  if (root.Bokeh !== undefined) {\n",
       "    embed_document(root);\n",
       "  } else {\n",
       "    var attempts = 0;\n",
       "    var timer = setInterval(function(root) {\n",
       "      if (root.Bokeh !== undefined) {\n",
       "        clearInterval(timer);\n",
       "        embed_document(root);\n",
       "      } else {\n",
       "        attempts++;\n",
       "        if (attempts > 100) {\n",
       "          clearInterval(timer);\n",
       "          console.log(\"Bokeh: ERROR: Unable to run BokehJS code because BokehJS library is missing\");\n",
       "        }\n",
       "      }\n",
       "    }, 10, root)\n",
       "  }\n",
       "})(window);"
      ],
      "application/vnd.bokehjs_exec.v0+json": ""
     },
     "metadata": {
      "application/vnd.bokehjs_exec.v0+json": {
       "id": "1771"
      }
     },
     "output_type": "display_data"
    }
   ],
   "source": [
    "#　グラフのx軸の値となる配列\n",
    "x = np.arange(-np.pi, np.pi, 0.1)\n",
    "\n",
    "# 上記配列をcos, sin関数に渡し, y軸の値として描画\n",
    "p = figure(title='cos and sin Curves', x_axis_label='x', y_axis_label='y')\n",
    "p.line(x, np.cos(x), line_color=c[0])\n",
    "p.line(x, np.sin(x), line_color=c[1])\n",
    "show(p)"
   ]
  },
  {
   "cell_type": "markdown",
   "metadata": {},
   "source": [
    "プロットの数を少なくすると、曲線は直線をつなぎ合わせることで描画されるていることがわかります。"
   ]
  },
  {
   "cell_type": "code",
   "execution_count": 8,
   "metadata": {
    "scrolled": true
   },
   "outputs": [
    {
     "data": {
      "text/html": [
       "\n",
       "\n",
       "\n",
       "\n",
       "\n",
       "\n",
       "  <div class=\"bk-root\" id=\"96548ce0-9345-4a6d-8d9d-4ef794d3d50a\" data-root-id=\"1940\"></div>\n"
      ]
     },
     "metadata": {},
     "output_type": "display_data"
    },
    {
     "data": {
      "application/javascript": [
       "(function(root) {\n",
       "  function embed_document(root) {\n",
       "    \n",
       "  var docs_json = {\"d9635578-4deb-4401-abf1-6e1def21ff09\":{\"roots\":{\"references\":[{\"attributes\":{\"below\":[{\"id\":\"1951\"}],\"center\":[{\"id\":\"1954\"},{\"id\":\"1958\"}],\"left\":[{\"id\":\"1955\"}],\"renderers\":[{\"id\":\"1975\"},{\"id\":\"1980\"}],\"title\":{\"id\":\"1941\"},\"toolbar\":{\"id\":\"1965\"},\"x_range\":{\"id\":\"1943\"},\"x_scale\":{\"id\":\"1947\"},\"y_range\":{\"id\":\"1945\"},\"y_scale\":{\"id\":\"1949\"}},\"id\":\"1940\",\"subtype\":\"Figure\",\"type\":\"Plot\"},{\"attributes\":{},\"id\":\"1947\",\"type\":\"LinearScale\"},{\"attributes\":{},\"id\":\"1952\",\"type\":\"BasicTicker\"},{\"attributes\":{},\"id\":\"1943\",\"type\":\"DataRange1d\"},{\"attributes\":{},\"id\":\"1960\",\"type\":\"WheelZoomTool\"},{\"attributes\":{\"axis\":{\"id\":\"1951\"},\"ticker\":null},\"id\":\"1954\",\"type\":\"Grid\"},{\"attributes\":{\"line_alpha\":0.1,\"line_color\":\"#ff7f0e\",\"x\":{\"field\":\"x\"},\"y\":{\"field\":\"y\"}},\"id\":\"1979\",\"type\":\"Line\"},{\"attributes\":{\"bottom_units\":\"screen\",\"fill_alpha\":0.5,\"fill_color\":\"lightgrey\",\"left_units\":\"screen\",\"level\":\"overlay\",\"line_alpha\":1.0,\"line_color\":\"black\",\"line_dash\":[4,4],\"line_width\":2,\"render_mode\":\"css\",\"right_units\":\"screen\",\"top_units\":\"screen\"},\"id\":\"2054\",\"type\":\"BoxAnnotation\"},{\"attributes\":{},\"id\":\"1945\",\"type\":\"DataRange1d\"},{\"attributes\":{\"data\":{\"x\":{\"__ndarray__\":\"GC1EVPshCcAYLURU+yEFwBgtRFT7IQHAMFqIqPZD+r8wWoio9kPyv2C0EFHth+S/gNFCRLUfwr9Al95dJfDWP6BL764SeOs/0KV3Vwm89T/QpXdXCbz9P+jSu6sE3gJA6NK7qwTeBkA=\",\"dtype\":\"float64\",\"shape\":[13]},\"y\":{\"__ndarray__\":\"B1wUMyamobzyBUt06K7ev+8MCY9U7eq/i20sm3rr779FtNHq9hjtv7DKzw2vJuO/V9W2bTgQwr8hYrp+O3PWP68e3N25N+g/gUDHPe1H7z8zmeD1ga/uP1awCk7Jk+Y/vqKwivHh0T8=\",\"dtype\":\"float64\",\"shape\":[13]}},\"selected\":{\"id\":\"2058\"},\"selection_policy\":{\"id\":\"2057\"}},\"id\":\"1977\",\"type\":\"ColumnDataSource\"},{\"attributes\":{\"active_drag\":\"auto\",\"active_inspect\":\"auto\",\"active_multi\":null,\"active_scroll\":\"auto\",\"active_tap\":\"auto\",\"tools\":[{\"id\":\"1959\"},{\"id\":\"1960\"},{\"id\":\"1961\"},{\"id\":\"1962\"},{\"id\":\"1963\"},{\"id\":\"1964\"}]},\"id\":\"1965\",\"type\":\"Toolbar\"},{\"attributes\":{\"axis\":{\"id\":\"1955\"},\"dimension\":1,\"ticker\":null},\"id\":\"1958\",\"type\":\"Grid\"},{\"attributes\":{\"line_alpha\":0.1,\"line_color\":\"#1f77b4\",\"x\":{\"field\":\"x\"},\"y\":{\"field\":\"y\"}},\"id\":\"1974\",\"type\":\"Line\"},{\"attributes\":{},\"id\":\"2050\",\"type\":\"BasicTickFormatter\"},{\"attributes\":{\"axis_label\":\"y\",\"formatter\":{\"id\":\"2052\"},\"ticker\":{\"id\":\"1956\"}},\"id\":\"1955\",\"type\":\"LinearAxis\"},{\"attributes\":{},\"id\":\"1964\",\"type\":\"HelpTool\"},{\"attributes\":{},\"id\":\"1949\",\"type\":\"LinearScale\"},{\"attributes\":{\"source\":{\"id\":\"1977\"}},\"id\":\"1981\",\"type\":\"CDSView\"},{\"attributes\":{},\"id\":\"2052\",\"type\":\"BasicTickFormatter\"},{\"attributes\":{},\"id\":\"1963\",\"type\":\"ResetTool\"},{\"attributes\":{},\"id\":\"2055\",\"type\":\"UnionRenderers\"},{\"attributes\":{},\"id\":\"2056\",\"type\":\"Selection\"},{\"attributes\":{},\"id\":\"1956\",\"type\":\"BasicTicker\"},{\"attributes\":{},\"id\":\"1962\",\"type\":\"SaveTool\"},{\"attributes\":{\"line_color\":\"#ff7f0e\",\"x\":{\"field\":\"x\"},\"y\":{\"field\":\"y\"}},\"id\":\"1978\",\"type\":\"Line\"},{\"attributes\":{\"source\":{\"id\":\"1972\"}},\"id\":\"1976\",\"type\":\"CDSView\"},{\"attributes\":{},\"id\":\"2057\",\"type\":\"UnionRenderers\"},{\"attributes\":{\"line_color\":\"#1f77b4\",\"x\":{\"field\":\"x\"},\"y\":{\"field\":\"y\"}},\"id\":\"1973\",\"type\":\"Line\"},{\"attributes\":{},\"id\":\"2058\",\"type\":\"Selection\"},{\"attributes\":{\"overlay\":{\"id\":\"2054\"}},\"id\":\"1961\",\"type\":\"BoxZoomTool\"},{\"attributes\":{\"data_source\":{\"id\":\"1977\"},\"glyph\":{\"id\":\"1978\"},\"hover_glyph\":null,\"muted_glyph\":null,\"nonselection_glyph\":{\"id\":\"1979\"},\"selection_glyph\":null,\"view\":{\"id\":\"1981\"}},\"id\":\"1980\",\"type\":\"GlyphRenderer\"},{\"attributes\":{},\"id\":\"1959\",\"type\":\"PanTool\"},{\"attributes\":{\"data\":{\"x\":{\"__ndarray__\":\"GC1EVPshCcAYLURU+yEFwBgtRFT7IQHAMFqIqPZD+r8wWoio9kPyv2C0EFHth+S/gNFCRLUfwr9Al95dJfDWP6BL764SeOs/0KV3Vwm89T/QpXdXCbz9P+jSu6sE3gJA6NK7qwTeBkA=\",\"dtype\":\"float64\",\"shape\":[13]},\"y\":{\"__ndarray__\":\"AAAAAAAA8L9PfVsGKBXsv4sGtQ8oSuG/nvnFT9Ubsr8HclNXJqLaP36Lhe/3ouk/0+WFvgSu7z9fGsEDdPftP8Ak2wam6uQ/Zj1YVFv7yj/bSmtwhSfSv0nUBzxsrea/9iJ4Cbe57r8=\",\"dtype\":\"float64\",\"shape\":[13]}},\"selected\":{\"id\":\"2056\"},\"selection_policy\":{\"id\":\"2055\"}},\"id\":\"1972\",\"type\":\"ColumnDataSource\"},{\"attributes\":{\"axis_label\":\"x\",\"formatter\":{\"id\":\"2050\"},\"ticker\":{\"id\":\"1952\"}},\"id\":\"1951\",\"type\":\"LinearAxis\"},{\"attributes\":{\"data_source\":{\"id\":\"1972\"},\"glyph\":{\"id\":\"1973\"},\"hover_glyph\":null,\"muted_glyph\":null,\"nonselection_glyph\":{\"id\":\"1974\"},\"selection_glyph\":null,\"view\":{\"id\":\"1976\"}},\"id\":\"1975\",\"type\":\"GlyphRenderer\"},{\"attributes\":{\"text\":\"cos and sin Curves\"},\"id\":\"1941\",\"type\":\"Title\"}],\"root_ids\":[\"1940\"]},\"title\":\"Bokeh Application\",\"version\":\"2.0.0\"}};\n",
       "  var render_items = [{\"docid\":\"d9635578-4deb-4401-abf1-6e1def21ff09\",\"root_ids\":[\"1940\"],\"roots\":{\"1940\":\"96548ce0-9345-4a6d-8d9d-4ef794d3d50a\"}}];\n",
       "  root.Bokeh.embed.embed_items_notebook(docs_json, render_items);\n",
       "\n",
       "  }\n",
       "  if (root.Bokeh !== undefined) {\n",
       "    embed_document(root);\n",
       "  } else {\n",
       "    var attempts = 0;\n",
       "    var timer = setInterval(function(root) {\n",
       "      if (root.Bokeh !== undefined) {\n",
       "        clearInterval(timer);\n",
       "        embed_document(root);\n",
       "      } else {\n",
       "        attempts++;\n",
       "        if (attempts > 100) {\n",
       "          clearInterval(timer);\n",
       "          console.log(\"Bokeh: ERROR: Unable to run BokehJS code because BokehJS library is missing\");\n",
       "        }\n",
       "      }\n",
       "    }, 10, root)\n",
       "  }\n",
       "})(window);"
      ],
      "application/vnd.bokehjs_exec.v0+json": ""
     },
     "metadata": {
      "application/vnd.bokehjs_exec.v0+json": {
       "id": "1940"
      }
     },
     "output_type": "display_data"
    }
   ],
   "source": [
    "x = np.arange(-np.pi, np.pi, 0.5)\n",
    "p = figure(title='cos and sin Curves', x_axis_label='x', y_axis_label='y')\n",
    "p.line(x, np.cos(x), line_color=c[0])\n",
    "p.line(x, np.sin(x), line_color=c[1])\n",
    "show(p)"
   ]
  },
  {
   "cell_type": "markdown",
   "metadata": {},
   "source": [
    "### グラフの例：ソートアルゴリズムにおける比較回数"
   ]
  },
  {
   "cell_type": "code",
   "execution_count": 9,
   "metadata": {},
   "outputs": [],
   "source": [
    "import random\n",
    "\n",
    "def bubble_sort(lst):\n",
    "    n = 0\n",
    "    for j in range(len(lst) - 1):\n",
    "        for i in range(len(lst) - 1 - j):\n",
    "            n = n + 1\n",
    "            if lst[i] > lst[i+1]:\n",
    "                lst[i + 1], lst[i] = lst[i], lst[i+1]\n",
    "    return n\n",
    "\n",
    "def merge_sort_rec(data, l, r, work):\n",
    "    if l+1 >= r: \n",
    "        return 0\n",
    "    m = l+(r-l)//2\n",
    "    n1 = merge_sort_rec(data, l, m, work)\n",
    "    n2 = merge_sort_rec(data, m, r, work)\n",
    "    n = 0\n",
    "    i1 = l\n",
    "    i2 = m\n",
    "    for i in range(l, r):\n",
    "        from1 = False\n",
    "        if i2 >= r:\n",
    "            from1 = True\n",
    "        elif i1 < m:\n",
    "            n = n + 1\n",
    "            if data[i1] <= data[i2]:\n",
    "                from1 = True\n",
    "        if from1:\n",
    "            work[i] = data[i1]\n",
    "            i1 = i1 + 1\n",
    "        else:\n",
    "            work[i] = data[i2]\n",
    "            i2 = i2 + 1\n",
    "    for i in range(l, r):\n",
    "        data[i] = work[i]\n",
    "    return n1+n2+n\n",
    "\n",
    "def merge_sort(data):\n",
    "    return merge_sort_rec(data, 0, len(data), [0]*len(data))"
   ]
  },
  {
   "cell_type": "code",
   "execution_count": 10,
   "metadata": {},
   "outputs": [],
   "source": [
    "x = np.arange(100, 1100, 100)\n",
    "bdata = np.array([bubble_sort([random.randint(1,10000) for i in range(k)]) for k in x])\n",
    "mdata = np.array([merge_sort([random.randint(1,10000) for i in range(k)]) for k in x])"
   ]
  },
  {
   "cell_type": "code",
   "execution_count": 11,
   "metadata": {},
   "outputs": [
    {
     "data": {
      "text/html": [
       "\n",
       "\n",
       "\n",
       "\n",
       "\n",
       "\n",
       "  <div class=\"bk-root\" id=\"b5bc6a86-bfbc-4066-91e0-233391c926b3\" data-root-id=\"2119\"></div>\n"
      ]
     },
     "metadata": {},
     "output_type": "display_data"
    },
    {
     "data": {
      "application/javascript": [
       "(function(root) {\n",
       "  function embed_document(root) {\n",
       "    \n",
       "  var docs_json = {\"8eff96cb-54e5-42ac-80ff-e6850d9e5c95\":{\"roots\":{\"references\":[{\"attributes\":{\"below\":[{\"id\":\"2130\"}],\"center\":[{\"id\":\"2133\"},{\"id\":\"2137\"}],\"left\":[{\"id\":\"2134\"}],\"renderers\":[{\"id\":\"2154\"},{\"id\":\"2159\"},{\"id\":\"2164\"},{\"id\":\"2169\"}],\"title\":{\"id\":\"2120\"},\"toolbar\":{\"id\":\"2144\"},\"x_range\":{\"id\":\"2122\"},\"x_scale\":{\"id\":\"2126\"},\"y_range\":{\"id\":\"2124\"},\"y_scale\":{\"id\":\"2128\"}},\"id\":\"2119\",\"subtype\":\"Figure\",\"type\":\"Plot\"},{\"attributes\":{\"data_source\":{\"id\":\"2161\"},\"glyph\":{\"id\":\"2162\"},\"hover_glyph\":null,\"muted_glyph\":null,\"nonselection_glyph\":{\"id\":\"2163\"},\"selection_glyph\":null,\"view\":{\"id\":\"2165\"}},\"id\":\"2164\",\"type\":\"GlyphRenderer\"},{\"attributes\":{\"fill_alpha\":{\"value\":0.1},\"fill_color\":{\"value\":\"#1f77b4\"},\"line_alpha\":{\"value\":0.1},\"line_color\":{\"value\":\"#1f77b4\"},\"line_width\":{\"value\":5},\"x\":{\"field\":\"x\"},\"y\":{\"field\":\"y\"}},\"id\":\"2158\",\"type\":\"Circle\"},{\"attributes\":{\"source\":{\"id\":\"2161\"}},\"id\":\"2165\",\"type\":\"CDSView\"},{\"attributes\":{},\"id\":\"2254\",\"type\":\"UnionRenderers\"},{\"attributes\":{\"source\":{\"id\":\"2166\"}},\"id\":\"2170\",\"type\":\"CDSView\"},{\"attributes\":{},\"id\":\"2142\",\"type\":\"ResetTool\"},{\"attributes\":{},\"id\":\"2255\",\"type\":\"Selection\"},{\"attributes\":{\"data\":{\"x\":[100,200,300,400,500,600,700,800,900,1000],\"y\":[548,1295,2091,2938,3835,4808,5761,6683,7703,8715]},\"selected\":{\"id\":\"2261\"},\"selection_policy\":{\"id\":\"2260\"}},\"id\":\"2166\",\"type\":\"ColumnDataSource\"},{\"attributes\":{\"source\":{\"id\":\"2156\"}},\"id\":\"2160\",\"type\":\"CDSView\"},{\"attributes\":{\"data\":{\"x\":[100,200,300,400,500,600,700,800,900,1000],\"y\":[548,1295,2091,2938,3835,4808,5761,6683,7703,8715]},\"selected\":{\"id\":\"2259\"},\"selection_policy\":{\"id\":\"2258\"}},\"id\":\"2161\",\"type\":\"ColumnDataSource\"},{\"attributes\":{\"fill_color\":{\"value\":\"#ff7f0e\"},\"line_color\":{\"value\":\"#ff7f0e\"},\"line_width\":{\"value\":5},\"x\":{\"field\":\"x\"},\"y\":{\"field\":\"y\"}},\"id\":\"2167\",\"type\":\"Circle\"},{\"attributes\":{},\"id\":\"2122\",\"type\":\"DataRange1d\"},{\"attributes\":{\"active_drag\":\"auto\",\"active_inspect\":\"auto\",\"active_multi\":null,\"active_scroll\":\"auto\",\"active_tap\":\"auto\",\"tools\":[{\"id\":\"2138\"},{\"id\":\"2139\"},{\"id\":\"2140\"},{\"id\":\"2141\"},{\"id\":\"2142\"},{\"id\":\"2143\"}]},\"id\":\"2144\",\"type\":\"Toolbar\"},{\"attributes\":{\"data_source\":{\"id\":\"2156\"},\"glyph\":{\"id\":\"2157\"},\"hover_glyph\":null,\"muted_glyph\":null,\"nonselection_glyph\":{\"id\":\"2158\"},\"selection_glyph\":null,\"view\":{\"id\":\"2160\"}},\"id\":\"2159\",\"type\":\"GlyphRenderer\"},{\"attributes\":{\"line_alpha\":0.1,\"line_color\":\"#1f77b4\",\"x\":{\"field\":\"x\"},\"y\":{\"field\":\"y\"}},\"id\":\"2153\",\"type\":\"Line\"},{\"attributes\":{},\"id\":\"2131\",\"type\":\"BasicTicker\"},{\"attributes\":{\"source\":{\"id\":\"2151\"}},\"id\":\"2155\",\"type\":\"CDSView\"},{\"attributes\":{\"fill_alpha\":{\"value\":0.1},\"fill_color\":{\"value\":\"#ff7f0e\"},\"line_alpha\":{\"value\":0.1},\"line_color\":{\"value\":\"#ff7f0e\"},\"line_width\":{\"value\":5},\"x\":{\"field\":\"x\"},\"y\":{\"field\":\"y\"}},\"id\":\"2168\",\"type\":\"Circle\"},{\"attributes\":{},\"id\":\"2135\",\"type\":\"BasicTicker\"},{\"attributes\":{},\"id\":\"2256\",\"type\":\"UnionRenderers\"},{\"attributes\":{\"overlay\":{\"id\":\"2253\"}},\"id\":\"2140\",\"type\":\"BoxZoomTool\"},{\"attributes\":{},\"id\":\"2257\",\"type\":\"Selection\"},{\"attributes\":{\"data\":{\"x\":[100,200,300,400,500,600,700,800,900,1000],\"y\":[4950,19900,44850,79800,124750,179700,244650,319600,404550,499500]},\"selected\":{\"id\":\"2257\"},\"selection_policy\":{\"id\":\"2256\"}},\"id\":\"2156\",\"type\":\"ColumnDataSource\"},{\"attributes\":{},\"id\":\"2126\",\"type\":\"LinearScale\"},{\"attributes\":{\"data\":{\"x\":[100,200,300,400,500,600,700,800,900,1000],\"y\":[4950,19900,44850,79800,124750,179700,244650,319600,404550,499500]},\"selected\":{\"id\":\"2255\"},\"selection_policy\":{\"id\":\"2254\"}},\"id\":\"2151\",\"type\":\"ColumnDataSource\"},{\"attributes\":{},\"id\":\"2141\",\"type\":\"SaveTool\"},{\"attributes\":{},\"id\":\"2138\",\"type\":\"PanTool\"},{\"attributes\":{\"data_source\":{\"id\":\"2166\"},\"glyph\":{\"id\":\"2167\"},\"hover_glyph\":null,\"muted_glyph\":null,\"nonselection_glyph\":{\"id\":\"2168\"},\"selection_glyph\":null,\"view\":{\"id\":\"2170\"}},\"id\":\"2169\",\"type\":\"GlyphRenderer\"},{\"attributes\":{},\"id\":\"2258\",\"type\":\"UnionRenderers\"},{\"attributes\":{\"line_color\":\"#ff7f0e\",\"x\":{\"field\":\"x\"},\"y\":{\"field\":\"y\"}},\"id\":\"2162\",\"type\":\"Line\"},{\"attributes\":{},\"id\":\"2259\",\"type\":\"Selection\"},{\"attributes\":{\"axis\":{\"id\":\"2130\"},\"ticker\":null},\"id\":\"2133\",\"type\":\"Grid\"},{\"attributes\":{},\"id\":\"2143\",\"type\":\"HelpTool\"},{\"attributes\":{},\"id\":\"2249\",\"type\":\"BasicTickFormatter\"},{\"attributes\":{\"line_color\":\"#1f77b4\",\"x\":{\"field\":\"x\"},\"y\":{\"field\":\"y\"}},\"id\":\"2152\",\"type\":\"Line\"},{\"attributes\":{\"data_source\":{\"id\":\"2151\"},\"glyph\":{\"id\":\"2152\"},\"hover_glyph\":null,\"muted_glyph\":null,\"nonselection_glyph\":{\"id\":\"2153\"},\"selection_glyph\":null,\"view\":{\"id\":\"2155\"}},\"id\":\"2154\",\"type\":\"GlyphRenderer\"},{\"attributes\":{},\"id\":\"2124\",\"type\":\"DataRange1d\"},{\"attributes\":{},\"id\":\"2251\",\"type\":\"BasicTickFormatter\"},{\"attributes\":{\"bottom_units\":\"screen\",\"fill_alpha\":0.5,\"fill_color\":\"lightgrey\",\"left_units\":\"screen\",\"level\":\"overlay\",\"line_alpha\":1.0,\"line_color\":\"black\",\"line_dash\":[4,4],\"line_width\":2,\"render_mode\":\"css\",\"right_units\":\"screen\",\"top_units\":\"screen\"},\"id\":\"2253\",\"type\":\"BoxAnnotation\"},{\"attributes\":{\"axis_label\":\"number of comparisons\",\"formatter\":{\"id\":\"2251\"},\"ticker\":{\"id\":\"2135\"}},\"id\":\"2134\",\"type\":\"LinearAxis\"},{\"attributes\":{\"axis\":{\"id\":\"2134\"},\"dimension\":1,\"ticker\":null},\"id\":\"2137\",\"type\":\"Grid\"},{\"attributes\":{},\"id\":\"2260\",\"type\":\"UnionRenderers\"},{\"attributes\":{\"text\":\"bubble sort vs. merge sort\"},\"id\":\"2120\",\"type\":\"Title\"},{\"attributes\":{},\"id\":\"2261\",\"type\":\"Selection\"},{\"attributes\":{},\"id\":\"2139\",\"type\":\"WheelZoomTool\"},{\"attributes\":{\"fill_color\":{\"value\":\"#1f77b4\"},\"line_color\":{\"value\":\"#1f77b4\"},\"line_width\":{\"value\":5},\"x\":{\"field\":\"x\"},\"y\":{\"field\":\"y\"}},\"id\":\"2157\",\"type\":\"Circle\"},{\"attributes\":{\"axis_label\":\"number of items\",\"formatter\":{\"id\":\"2249\"},\"ticker\":{\"id\":\"2131\"}},\"id\":\"2130\",\"type\":\"LinearAxis\"},{\"attributes\":{\"line_alpha\":0.1,\"line_color\":\"#ff7f0e\",\"x\":{\"field\":\"x\"},\"y\":{\"field\":\"y\"}},\"id\":\"2163\",\"type\":\"Line\"},{\"attributes\":{},\"id\":\"2128\",\"type\":\"LinearScale\"}],\"root_ids\":[\"2119\"]},\"title\":\"Bokeh Application\",\"version\":\"2.0.0\"}};\n",
       "  var render_items = [{\"docid\":\"8eff96cb-54e5-42ac-80ff-e6850d9e5c95\",\"root_ids\":[\"2119\"],\"roots\":{\"2119\":\"b5bc6a86-bfbc-4066-91e0-233391c926b3\"}}];\n",
       "  root.Bokeh.embed.embed_items_notebook(docs_json, render_items);\n",
       "\n",
       "  }\n",
       "  if (root.Bokeh !== undefined) {\n",
       "    embed_document(root);\n",
       "  } else {\n",
       "    var attempts = 0;\n",
       "    var timer = setInterval(function(root) {\n",
       "      if (root.Bokeh !== undefined) {\n",
       "        clearInterval(timer);\n",
       "        embed_document(root);\n",
       "      } else {\n",
       "        attempts++;\n",
       "        if (attempts > 100) {\n",
       "          clearInterval(timer);\n",
       "          console.log(\"Bokeh: ERROR: Unable to run BokehJS code because BokehJS library is missing\");\n",
       "        }\n",
       "      }\n",
       "    }, 10, root)\n",
       "  }\n",
       "})(window);"
      ],
      "application/vnd.bokehjs_exec.v0+json": ""
     },
     "metadata": {
      "application/vnd.bokehjs_exec.v0+json": {
       "id": "2119"
      }
     },
     "output_type": "display_data"
    }
   ],
   "source": [
    "p = figure(title='bubble sort vs. merge sort', x_axis_label='number of items', y_axis_label='number of comparisons')\n",
    "p.line(x, bdata, line_color=c[0])\n",
    "p.circle(x, bdata, color=c[0], line_width=5)\n",
    "p.line(x, mdata, line_color=c[1])\n",
    "p.circle(x, mdata, color=c[1], line_width=5)\n",
    "show(p)"
   ]
  },
  {
   "cell_type": "markdown",
   "metadata": {},
   "source": [
    "## 散布図\n",
    "\n",
    "散布図の描画には、点のプロットを `marker` 引数で指定できる `scatter()` メソッドが便利です。\n",
    "以下では、ランダムに生成した20個の要素からなる配列 `x`、`y` の各要素の値の組みを点としてプロットした散布図を表示します。\n",
    "プロットする点のマーカーは円とし、`size` 引数で大きさを、`alpha` 引数で透明度を設定しています。"
   ]
  },
  {
   "cell_type": "code",
   "execution_count": 12,
   "metadata": {},
   "outputs": [
    {
     "data": {
      "text/html": [
       "\n",
       "\n",
       "\n",
       "\n",
       "\n",
       "\n",
       "  <div class=\"bk-root\" id=\"887932cb-8b7b-4a32-87c1-81aa6d7db234\" data-root-id=\"2346\"></div>\n"
      ]
     },
     "metadata": {},
     "output_type": "display_data"
    },
    {
     "data": {
      "application/javascript": [
       "(function(root) {\n",
       "  function embed_document(root) {\n",
       "    \n",
       "  var docs_json = {\"ed775eba-1ef3-4fe2-9ebc-4a625eea8c6e\":{\"roots\":{\"references\":[{\"attributes\":{\"below\":[{\"id\":\"2355\"}],\"center\":[{\"id\":\"2358\"},{\"id\":\"2362\"}],\"left\":[{\"id\":\"2359\"}],\"renderers\":[{\"id\":\"2379\"}],\"title\":{\"id\":\"2473\"},\"toolbar\":{\"id\":\"2369\"},\"x_range\":{\"id\":\"2347\"},\"x_scale\":{\"id\":\"2351\"},\"y_range\":{\"id\":\"2349\"},\"y_scale\":{\"id\":\"2353\"}},\"id\":\"2346\",\"subtype\":\"Figure\",\"type\":\"Plot\"},{\"attributes\":{},\"id\":\"2353\",\"type\":\"LinearScale\"},{\"attributes\":{},\"id\":\"2474\",\"type\":\"BasicTickFormatter\"},{\"attributes\":{},\"id\":\"2476\",\"type\":\"BasicTickFormatter\"},{\"attributes\":{},\"id\":\"2364\",\"type\":\"WheelZoomTool\"},{\"attributes\":{},\"id\":\"2367\",\"type\":\"ResetTool\"},{\"attributes\":{\"formatter\":{\"id\":\"2474\"},\"ticker\":{\"id\":\"2356\"}},\"id\":\"2355\",\"type\":\"LinearAxis\"},{\"attributes\":{\"axis\":{\"id\":\"2359\"},\"dimension\":1,\"ticker\":null},\"id\":\"2362\",\"type\":\"Grid\"},{\"attributes\":{\"bottom_units\":\"screen\",\"fill_alpha\":0.5,\"fill_color\":\"lightgrey\",\"left_units\":\"screen\",\"level\":\"overlay\",\"line_alpha\":1.0,\"line_color\":\"black\",\"line_dash\":[4,4],\"line_width\":2,\"render_mode\":\"css\",\"right_units\":\"screen\",\"top_units\":\"screen\"},\"id\":\"2478\",\"type\":\"BoxAnnotation\"},{\"attributes\":{},\"id\":\"2356\",\"type\":\"BasicTicker\"},{\"attributes\":{},\"id\":\"2363\",\"type\":\"PanTool\"},{\"attributes\":{},\"id\":\"2349\",\"type\":\"DataRange1d\"},{\"attributes\":{\"overlay\":{\"id\":\"2478\"}},\"id\":\"2365\",\"type\":\"BoxZoomTool\"},{\"attributes\":{},\"id\":\"2360\",\"type\":\"BasicTicker\"},{\"attributes\":{\"data_source\":{\"id\":\"2376\"},\"glyph\":{\"id\":\"2377\"},\"hover_glyph\":null,\"muted_glyph\":null,\"nonselection_glyph\":{\"id\":\"2378\"},\"selection_glyph\":null,\"view\":{\"id\":\"2380\"}},\"id\":\"2379\",\"type\":\"GlyphRenderer\"},{\"attributes\":{\"active_drag\":\"auto\",\"active_inspect\":\"auto\",\"active_multi\":null,\"active_scroll\":\"auto\",\"active_tap\":\"auto\",\"tools\":[{\"id\":\"2363\"},{\"id\":\"2364\"},{\"id\":\"2365\"},{\"id\":\"2366\"},{\"id\":\"2367\"},{\"id\":\"2368\"}]},\"id\":\"2369\",\"type\":\"Toolbar\"},{\"attributes\":{\"text\":\"\"},\"id\":\"2473\",\"type\":\"Title\"},{\"attributes\":{\"source\":{\"id\":\"2376\"}},\"id\":\"2380\",\"type\":\"CDSView\"},{\"attributes\":{},\"id\":\"2351\",\"type\":\"LinearScale\"},{\"attributes\":{},\"id\":\"2368\",\"type\":\"HelpTool\"},{\"attributes\":{\"fill_alpha\":{\"value\":0.1},\"fill_color\":{\"value\":\"#1f77b4\"},\"line_alpha\":{\"value\":0.1},\"line_color\":{\"value\":\"#1f77b4\"},\"size\":{\"units\":\"screen\",\"value\":16},\"x\":{\"field\":\"x\"},\"y\":{\"field\":\"y\"}},\"id\":\"2378\",\"type\":\"Scatter\"},{\"attributes\":{},\"id\":\"2479\",\"type\":\"UnionRenderers\"},{\"attributes\":{},\"id\":\"2480\",\"type\":\"Selection\"},{\"attributes\":{\"fill_alpha\":{\"value\":0.5},\"fill_color\":{\"value\":\"#1f77b4\"},\"line_alpha\":{\"value\":0.5},\"line_color\":{\"value\":\"#1f77b4\"},\"size\":{\"units\":\"screen\",\"value\":16},\"x\":{\"field\":\"x\"},\"y\":{\"field\":\"y\"}},\"id\":\"2377\",\"type\":\"Scatter\"},{\"attributes\":{\"data\":{\"x\":{\"__ndarray__\":\"6PdFeqU1yz+vzLOvXmHpP8DcvvNI4YI/6nXahQln6j9bJrizORbrPxSwxmn06MY/YhxITIhu3D/GByS2mMnkPzYnzLGIw94/UrKF9DyW0j90N1gUm6DuPyy09Mj/ZcU/272qvpb86z8ACqHS2oHjP2inP/Z7PeQ/XC+po7h50j+gHEGiDhi/P9DIMixlfd4/iIZBSnDzsj9TIrK5qnLlPw==\",\"dtype\":\"float64\",\"shape\":[20]},\"y\":{\"__ndarray__\":\"UsU1hFox1D8uUB+ArK3nP5wvi0U1j+U/CFposemovT/AqYNbp3ehP1rDV2ji+uE/o5r7j3y57z+fU/WVlI/gP+F5/CkqfeU/QGfYQWj4rD+pPx91Y7PiP4L+dLdL/9g/HAqGD6/VzT9XPczirM3lP+ZCFk11IOE/QB03Asp4qD+QNH60abvnP+lnD2dJR+k/SE7fF0tszD8AYGXVlTQ2Pw==\",\"dtype\":\"float64\",\"shape\":[20]}},\"selected\":{\"id\":\"2480\"},\"selection_policy\":{\"id\":\"2479\"}},\"id\":\"2376\",\"type\":\"ColumnDataSource\"},{\"attributes\":{},\"id\":\"2347\",\"type\":\"DataRange1d\"},{\"attributes\":{\"axis\":{\"id\":\"2355\"},\"ticker\":null},\"id\":\"2358\",\"type\":\"Grid\"},{\"attributes\":{},\"id\":\"2366\",\"type\":\"SaveTool\"},{\"attributes\":{\"formatter\":{\"id\":\"2476\"},\"ticker\":{\"id\":\"2360\"}},\"id\":\"2359\",\"type\":\"LinearAxis\"}],\"root_ids\":[\"2346\"]},\"title\":\"Bokeh Application\",\"version\":\"2.0.0\"}};\n",
       "  var render_items = [{\"docid\":\"ed775eba-1ef3-4fe2-9ebc-4a625eea8c6e\",\"root_ids\":[\"2346\"],\"roots\":{\"2346\":\"887932cb-8b7b-4a32-87c1-81aa6d7db234\"}}];\n",
       "  root.Bokeh.embed.embed_items_notebook(docs_json, render_items);\n",
       "\n",
       "  }\n",
       "  if (root.Bokeh !== undefined) {\n",
       "    embed_document(root);\n",
       "  } else {\n",
       "    var attempts = 0;\n",
       "    var timer = setInterval(function(root) {\n",
       "      if (root.Bokeh !== undefined) {\n",
       "        clearInterval(timer);\n",
       "        embed_document(root);\n",
       "      } else {\n",
       "        attempts++;\n",
       "        if (attempts > 100) {\n",
       "          clearInterval(timer);\n",
       "          console.log(\"Bokeh: ERROR: Unable to run BokehJS code because BokehJS library is missing\");\n",
       "        }\n",
       "      }\n",
       "    }, 10, root)\n",
       "  }\n",
       "})(window);"
      ],
      "application/vnd.bokehjs_exec.v0+json": ""
     },
     "metadata": {
      "application/vnd.bokehjs_exec.v0+json": {
       "id": "2346"
      }
     },
     "output_type": "display_data"
    }
   ],
   "source": [
    "#　グラフのx軸の値となる配列\n",
    "x = np.random.rand(20)\n",
    "#　グラフのy軸の値となる配列\n",
    "y = np.random.rand(20)\n",
    "\n",
    "p = figure()\n",
    "p.scatter(x, y, marker='circle', size=16, alpha=0.5)\n",
    "show(p)"
   ]
  },
  {
   "cell_type": "markdown",
   "metadata": {},
   "source": [
    "これと同じグラフは、単に `circle()` メソッドでプロットをすることでも描画できます。"
   ]
  },
  {
   "cell_type": "code",
   "execution_count": 13,
   "metadata": {},
   "outputs": [
    {
     "data": {
      "text/html": [
       "\n",
       "\n",
       "\n",
       "\n",
       "\n",
       "\n",
       "  <div class=\"bk-root\" id=\"162a8635-656b-41ee-86a3-d59a819e4bbf\" data-root-id=\"2535\"></div>\n"
      ]
     },
     "metadata": {},
     "output_type": "display_data"
    },
    {
     "data": {
      "application/javascript": [
       "(function(root) {\n",
       "  function embed_document(root) {\n",
       "    \n",
       "  var docs_json = {\"4284330b-5d68-478a-a591-bb1fba513177\":{\"roots\":{\"references\":[{\"attributes\":{\"below\":[{\"id\":\"2544\"}],\"center\":[{\"id\":\"2547\"},{\"id\":\"2551\"}],\"left\":[{\"id\":\"2548\"}],\"renderers\":[{\"id\":\"2568\"}],\"title\":{\"id\":\"2671\"},\"toolbar\":{\"id\":\"2558\"},\"x_range\":{\"id\":\"2536\"},\"x_scale\":{\"id\":\"2540\"},\"y_range\":{\"id\":\"2538\"},\"y_scale\":{\"id\":\"2542\"}},\"id\":\"2535\",\"subtype\":\"Figure\",\"type\":\"Plot\"},{\"attributes\":{},\"id\":\"2542\",\"type\":\"LinearScale\"},{\"attributes\":{},\"id\":\"2672\",\"type\":\"BasicTickFormatter\"},{\"attributes\":{\"data\":{\"x\":{\"__ndarray__\":\"6PdFeqU1yz+vzLOvXmHpP8DcvvNI4YI/6nXahQln6j9bJrizORbrPxSwxmn06MY/YhxITIhu3D/GByS2mMnkPzYnzLGIw94/UrKF9DyW0j90N1gUm6DuPyy09Mj/ZcU/272qvpb86z8ACqHS2oHjP2inP/Z7PeQ/XC+po7h50j+gHEGiDhi/P9DIMixlfd4/iIZBSnDzsj9TIrK5qnLlPw==\",\"dtype\":\"float64\",\"shape\":[20]},\"y\":{\"__ndarray__\":\"UsU1hFox1D8uUB+ArK3nP5wvi0U1j+U/CFposemovT/AqYNbp3ehP1rDV2ji+uE/o5r7j3y57z+fU/WVlI/gP+F5/CkqfeU/QGfYQWj4rD+pPx91Y7PiP4L+dLdL/9g/HAqGD6/VzT9XPczirM3lP+ZCFk11IOE/QB03Asp4qD+QNH60abvnP+lnD2dJR+k/SE7fF0tszD8AYGXVlTQ2Pw==\",\"dtype\":\"float64\",\"shape\":[20]}},\"selected\":{\"id\":\"2678\"},\"selection_policy\":{\"id\":\"2677\"}},\"id\":\"2565\",\"type\":\"ColumnDataSource\"},{\"attributes\":{},\"id\":\"2552\",\"type\":\"PanTool\"},{\"attributes\":{\"axis\":{\"id\":\"2544\"},\"ticker\":null},\"id\":\"2547\",\"type\":\"Grid\"},{\"attributes\":{},\"id\":\"2674\",\"type\":\"BasicTickFormatter\"},{\"attributes\":{\"active_drag\":\"auto\",\"active_inspect\":\"auto\",\"active_multi\":null,\"active_scroll\":\"auto\",\"active_tap\":\"auto\",\"tools\":[{\"id\":\"2552\"},{\"id\":\"2553\"},{\"id\":\"2554\"},{\"id\":\"2555\"},{\"id\":\"2556\"},{\"id\":\"2557\"}]},\"id\":\"2558\",\"type\":\"Toolbar\"},{\"attributes\":{},\"id\":\"2549\",\"type\":\"BasicTicker\"},{\"attributes\":{},\"id\":\"2553\",\"type\":\"WheelZoomTool\"},{\"attributes\":{},\"id\":\"2545\",\"type\":\"BasicTicker\"},{\"attributes\":{},\"id\":\"2538\",\"type\":\"DataRange1d\"},{\"attributes\":{\"bottom_units\":\"screen\",\"fill_alpha\":0.5,\"fill_color\":\"lightgrey\",\"left_units\":\"screen\",\"level\":\"overlay\",\"line_alpha\":1.0,\"line_color\":\"black\",\"line_dash\":[4,4],\"line_width\":2,\"render_mode\":\"css\",\"right_units\":\"screen\",\"top_units\":\"screen\"},\"id\":\"2676\",\"type\":\"BoxAnnotation\"},{\"attributes\":{},\"id\":\"2557\",\"type\":\"HelpTool\"},{\"attributes\":{\"axis\":{\"id\":\"2548\"},\"dimension\":1,\"ticker\":null},\"id\":\"2551\",\"type\":\"Grid\"},{\"attributes\":{\"overlay\":{\"id\":\"2676\"}},\"id\":\"2554\",\"type\":\"BoxZoomTool\"},{\"attributes\":{},\"id\":\"2555\",\"type\":\"SaveTool\"},{\"attributes\":{\"fill_alpha\":{\"value\":0.5},\"fill_color\":{\"value\":\"#1f77b4\"},\"line_alpha\":{\"value\":0.5},\"line_color\":{\"value\":\"#1f77b4\"},\"size\":{\"units\":\"screen\",\"value\":16},\"x\":{\"field\":\"x\"},\"y\":{\"field\":\"y\"}},\"id\":\"2566\",\"type\":\"Circle\"},{\"attributes\":{},\"id\":\"2556\",\"type\":\"ResetTool\"},{\"attributes\":{},\"id\":\"2540\",\"type\":\"LinearScale\"},{\"attributes\":{\"source\":{\"id\":\"2565\"}},\"id\":\"2569\",\"type\":\"CDSView\"},{\"attributes\":{},\"id\":\"2536\",\"type\":\"DataRange1d\"},{\"attributes\":{\"data_source\":{\"id\":\"2565\"},\"glyph\":{\"id\":\"2566\"},\"hover_glyph\":null,\"muted_glyph\":null,\"nonselection_glyph\":{\"id\":\"2567\"},\"selection_glyph\":null,\"view\":{\"id\":\"2569\"}},\"id\":\"2568\",\"type\":\"GlyphRenderer\"},{\"attributes\":{\"fill_alpha\":{\"value\":0.1},\"fill_color\":{\"value\":\"#1f77b4\"},\"line_alpha\":{\"value\":0.1},\"line_color\":{\"value\":\"#1f77b4\"},\"size\":{\"units\":\"screen\",\"value\":16},\"x\":{\"field\":\"x\"},\"y\":{\"field\":\"y\"}},\"id\":\"2567\",\"type\":\"Circle\"},{\"attributes\":{},\"id\":\"2677\",\"type\":\"UnionRenderers\"},{\"attributes\":{},\"id\":\"2678\",\"type\":\"Selection\"},{\"attributes\":{\"text\":\"\"},\"id\":\"2671\",\"type\":\"Title\"},{\"attributes\":{\"formatter\":{\"id\":\"2672\"},\"ticker\":{\"id\":\"2545\"}},\"id\":\"2544\",\"type\":\"LinearAxis\"},{\"attributes\":{\"formatter\":{\"id\":\"2674\"},\"ticker\":{\"id\":\"2549\"}},\"id\":\"2548\",\"type\":\"LinearAxis\"}],\"root_ids\":[\"2535\"]},\"title\":\"Bokeh Application\",\"version\":\"2.0.0\"}};\n",
       "  var render_items = [{\"docid\":\"4284330b-5d68-478a-a591-bb1fba513177\",\"root_ids\":[\"2535\"],\"roots\":{\"2535\":\"162a8635-656b-41ee-86a3-d59a819e4bbf\"}}];\n",
       "  root.Bokeh.embed.embed_items_notebook(docs_json, render_items);\n",
       "\n",
       "  }\n",
       "  if (root.Bokeh !== undefined) {\n",
       "    embed_document(root);\n",
       "  } else {\n",
       "    var attempts = 0;\n",
       "    var timer = setInterval(function(root) {\n",
       "      if (root.Bokeh !== undefined) {\n",
       "        clearInterval(timer);\n",
       "        embed_document(root);\n",
       "      } else {\n",
       "        attempts++;\n",
       "        if (attempts > 100) {\n",
       "          clearInterval(timer);\n",
       "          console.log(\"Bokeh: ERROR: Unable to run BokehJS code because BokehJS library is missing\");\n",
       "        }\n",
       "      }\n",
       "    }, 10, root)\n",
       "  }\n",
       "})(window);"
      ],
      "application/vnd.bokehjs_exec.v0+json": ""
     },
     "metadata": {
      "application/vnd.bokehjs_exec.v0+json": {
       "id": "2535"
      }
     },
     "output_type": "display_data"
    }
   ],
   "source": [
    "p = figure()\n",
    "p.circle(x, y, size=16, alpha=0.5)\n",
    "show(p)"
   ]
  },
  {
   "cell_type": "markdown",
   "metadata": {},
   "source": [
    "## 棒グラフ\n",
    "\n",
    "棒グラフは、`vbar()` メソッドを用いて描画できます。\n",
    "次の例では、ランダムに生成した10個の要素からなる配列 `y` の各要素の値を縦の棒グラフで表示しています。\n",
    "`x` は、x軸上で棒グラフのバーの並ぶ位置を示しています。\n",
    "ここでは、`numpy` モジュールの `arange()` 関数を用いて、`1` から `10` の範囲を `1` 刻みでx軸上のバーの並ぶ位置として配列を準備しています。"
   ]
  },
  {
   "cell_type": "code",
   "execution_count": 14,
   "metadata": {},
   "outputs": [
    {
     "data": {
      "text/html": [
       "\n",
       "\n",
       "\n",
       "\n",
       "\n",
       "\n",
       "  <div class=\"bk-root\" id=\"bbce6c8e-b32b-4311-b336-db7469507a27\" data-root-id=\"2733\"></div>\n"
      ]
     },
     "metadata": {},
     "output_type": "display_data"
    },
    {
     "data": {
      "application/javascript": [
       "(function(root) {\n",
       "  function embed_document(root) {\n",
       "    \n",
       "  var docs_json = {\"f850d6b0-9c9d-41d3-bccb-db8e65531cdb\":{\"roots\":{\"references\":[{\"attributes\":{\"below\":[{\"id\":\"2742\"}],\"center\":[{\"id\":\"2745\"},{\"id\":\"2749\"}],\"left\":[{\"id\":\"2746\"}],\"renderers\":[{\"id\":\"2766\"}],\"title\":{\"id\":\"2878\"},\"toolbar\":{\"id\":\"2756\"},\"x_range\":{\"id\":\"2734\"},\"x_scale\":{\"id\":\"2738\"},\"y_range\":{\"id\":\"2736\"},\"y_scale\":{\"id\":\"2740\"}},\"id\":\"2733\",\"subtype\":\"Figure\",\"type\":\"Plot\"},{\"attributes\":{},\"id\":\"2879\",\"type\":\"BasicTickFormatter\"},{\"attributes\":{\"active_drag\":\"auto\",\"active_inspect\":\"auto\",\"active_multi\":null,\"active_scroll\":\"auto\",\"active_tap\":\"auto\",\"tools\":[{\"id\":\"2750\"},{\"id\":\"2751\"},{\"id\":\"2752\"},{\"id\":\"2753\"},{\"id\":\"2754\"},{\"id\":\"2755\"}]},\"id\":\"2756\",\"type\":\"Toolbar\"},{\"attributes\":{\"formatter\":{\"id\":\"2881\"},\"ticker\":{\"id\":\"2747\"}},\"id\":\"2746\",\"type\":\"LinearAxis\"},{\"attributes\":{},\"id\":\"2881\",\"type\":\"BasicTickFormatter\"},{\"attributes\":{\"overlay\":{\"id\":\"2883\"}},\"id\":\"2752\",\"type\":\"BoxZoomTool\"},{\"attributes\":{\"source\":{\"id\":\"2763\"}},\"id\":\"2767\",\"type\":\"CDSView\"},{\"attributes\":{\"fill_alpha\":{\"value\":0.1},\"fill_color\":{\"value\":\"#1f77b4\"},\"line_alpha\":{\"value\":0.1},\"line_color\":{\"value\":\"#1f77b4\"},\"top\":{\"field\":\"top\"},\"width\":{\"value\":0.5},\"x\":{\"field\":\"x\"}},\"id\":\"2765\",\"type\":\"VBar\"},{\"attributes\":{},\"id\":\"2755\",\"type\":\"HelpTool\"},{\"attributes\":{},\"id\":\"2753\",\"type\":\"SaveTool\"},{\"attributes\":{\"data_source\":{\"id\":\"2763\"},\"glyph\":{\"id\":\"2764\"},\"hover_glyph\":null,\"muted_glyph\":null,\"nonselection_glyph\":{\"id\":\"2765\"},\"selection_glyph\":null,\"view\":{\"id\":\"2767\"}},\"id\":\"2766\",\"type\":\"GlyphRenderer\"},{\"attributes\":{},\"id\":\"2754\",\"type\":\"ResetTool\"},{\"attributes\":{\"bottom_units\":\"screen\",\"fill_alpha\":0.5,\"fill_color\":\"lightgrey\",\"left_units\":\"screen\",\"level\":\"overlay\",\"line_alpha\":1.0,\"line_color\":\"black\",\"line_dash\":[4,4],\"line_width\":2,\"render_mode\":\"css\",\"right_units\":\"screen\",\"top_units\":\"screen\"},\"id\":\"2883\",\"type\":\"BoxAnnotation\"},{\"attributes\":{\"text\":\"\"},\"id\":\"2878\",\"type\":\"Title\"},{\"attributes\":{},\"id\":\"2738\",\"type\":\"LinearScale\"},{\"attributes\":{\"axis\":{\"id\":\"2742\"},\"ticker\":null},\"id\":\"2745\",\"type\":\"Grid\"},{\"attributes\":{},\"id\":\"2743\",\"type\":\"BasicTicker\"},{\"attributes\":{},\"id\":\"2734\",\"type\":\"DataRange1d\"},{\"attributes\":{},\"id\":\"2736\",\"type\":\"DataRange1d\"},{\"attributes\":{\"formatter\":{\"id\":\"2879\"},\"ticker\":{\"id\":\"2743\"}},\"id\":\"2742\",\"type\":\"LinearAxis\"},{\"attributes\":{},\"id\":\"2747\",\"type\":\"BasicTicker\"},{\"attributes\":{},\"id\":\"2751\",\"type\":\"WheelZoomTool\"},{\"attributes\":{},\"id\":\"2740\",\"type\":\"LinearScale\"},{\"attributes\":{\"axis\":{\"id\":\"2746\"},\"dimension\":1,\"ticker\":null},\"id\":\"2749\",\"type\":\"Grid\"},{\"attributes\":{},\"id\":\"2884\",\"type\":\"UnionRenderers\"},{\"attributes\":{},\"id\":\"2750\",\"type\":\"PanTool\"},{\"attributes\":{},\"id\":\"2885\",\"type\":\"Selection\"},{\"attributes\":{\"fill_color\":{\"value\":\"#1f77b4\"},\"line_color\":{\"value\":\"#1f77b4\"},\"top\":{\"field\":\"top\"},\"width\":{\"value\":0.5},\"x\":{\"field\":\"x\"}},\"id\":\"2764\",\"type\":\"VBar\"},{\"attributes\":{\"data\":{\"top\":{\"__ndarray__\":\"zPAQnNlb2D/gVfBUPX6ZP2g34qiK/sM/aLw/ME0v4D+sdS2JTwnNPxCM9cGSWOE/1dQp32vd6z8AR8svol6UP5DLTyQi8bQ/RLFP/O2w5z8=\",\"dtype\":\"float64\",\"shape\":[10]},\"x\":[1,2,3,4,5,6,7,8,9,10]},\"selected\":{\"id\":\"2885\"},\"selection_policy\":{\"id\":\"2884\"}},\"id\":\"2763\",\"type\":\"ColumnDataSource\"}],\"root_ids\":[\"2733\"]},\"title\":\"Bokeh Application\",\"version\":\"2.0.0\"}};\n",
       "  var render_items = [{\"docid\":\"f850d6b0-9c9d-41d3-bccb-db8e65531cdb\",\"root_ids\":[\"2733\"],\"roots\":{\"2733\":\"bbce6c8e-b32b-4311-b336-db7469507a27\"}}];\n",
       "  root.Bokeh.embed.embed_items_notebook(docs_json, render_items);\n",
       "\n",
       "  }\n",
       "  if (root.Bokeh !== undefined) {\n",
       "    embed_document(root);\n",
       "  } else {\n",
       "    var attempts = 0;\n",
       "    var timer = setInterval(function(root) {\n",
       "      if (root.Bokeh !== undefined) {\n",
       "        clearInterval(timer);\n",
       "        embed_document(root);\n",
       "      } else {\n",
       "        attempts++;\n",
       "        if (attempts > 100) {\n",
       "          clearInterval(timer);\n",
       "          console.log(\"Bokeh: ERROR: Unable to run BokehJS code because BokehJS library is missing\");\n",
       "        }\n",
       "      }\n",
       "    }, 10, root)\n",
       "  }\n",
       "})(window);"
      ],
      "application/vnd.bokehjs_exec.v0+json": ""
     },
     "metadata": {
      "application/vnd.bokehjs_exec.v0+json": {
       "id": "2733"
      }
     },
     "output_type": "display_data"
    }
   ],
   "source": [
    "# x軸上で棒の並ぶ位置となる配列\n",
    "x = np.arange(1, 11, 1)\n",
    "#　グラフのy軸の値となる配列\n",
    "y = np.random.rand(10)\n",
    "\n",
    "p = figure()\n",
    "p.vbar(x, 0.5, y) # 第2引数は幅\n",
    "show(p)"
   ]
  },
  {
   "cell_type": "markdown",
   "metadata": {},
   "source": [
    "## ヒストグラム\n",
    "\n",
    "ヒストグラムの描画には、`quad()` メソッドが便利です。\n",
    "次の例では、`numpy.random.randn()` 関数を用いて、正規分布に基づく 1000 個の数値の要素からなる配列を用意し、`numpy.histogram()` 関数を使って20個のビンに分類したヒストグラムを計算しています。\n",
    "その計算結果を、`quad()` メソッドを使って、描画しています。\n",
    "ビンの境界を見やすくするように、`line_color` と `fill_color`（デフォルト色）を別の色にしています。"
   ]
  },
  {
   "cell_type": "code",
   "execution_count": 15,
   "metadata": {},
   "outputs": [
    {
     "data": {
      "text/html": [
       "\n",
       "\n",
       "\n",
       "\n",
       "\n",
       "\n",
       "  <div class=\"bk-root\" id=\"a9c08b79-7b37-48c4-ba47-8d017ad8b702\" data-root-id=\"2940\"></div>\n"
      ]
     },
     "metadata": {},
     "output_type": "display_data"
    },
    {
     "data": {
      "application/javascript": [
       "(function(root) {\n",
       "  function embed_document(root) {\n",
       "    \n",
       "  var docs_json = {\"2bf7df44-530a-4430-8462-c80cbc6cbb05\":{\"roots\":{\"references\":[{\"attributes\":{\"below\":[{\"id\":\"2949\"}],\"center\":[{\"id\":\"2952\"},{\"id\":\"2956\"}],\"left\":[{\"id\":\"2953\"}],\"renderers\":[{\"id\":\"2973\"}],\"title\":{\"id\":\"3094\"},\"toolbar\":{\"id\":\"2963\"},\"x_range\":{\"id\":\"2941\"},\"x_scale\":{\"id\":\"2945\"},\"y_range\":{\"id\":\"2943\"},\"y_scale\":{\"id\":\"2947\"}},\"id\":\"2940\",\"subtype\":\"Figure\",\"type\":\"Plot\"},{\"attributes\":{},\"id\":\"2954\",\"type\":\"BasicTicker\"},{\"attributes\":{\"data_source\":{\"id\":\"2970\"},\"glyph\":{\"id\":\"2971\"},\"hover_glyph\":null,\"muted_glyph\":null,\"nonselection_glyph\":{\"id\":\"2972\"},\"selection_glyph\":null,\"view\":{\"id\":\"2974\"}},\"id\":\"2973\",\"type\":\"GlyphRenderer\"},{\"attributes\":{\"bottom\":{\"value\":0},\"fill_alpha\":{\"value\":0.5},\"fill_color\":{\"value\":\"#1f77b4\"},\"left\":{\"field\":\"left\"},\"line_alpha\":{\"value\":0.5},\"line_color\":{\"value\":\"white\"},\"right\":{\"field\":\"right\"},\"top\":{\"field\":\"top\"}},\"id\":\"2971\",\"type\":\"Quad\"},{\"attributes\":{\"bottom_units\":\"screen\",\"fill_alpha\":0.5,\"fill_color\":\"lightgrey\",\"left_units\":\"screen\",\"level\":\"overlay\",\"line_alpha\":1.0,\"line_color\":\"black\",\"line_dash\":[4,4],\"line_width\":2,\"render_mode\":\"css\",\"right_units\":\"screen\",\"top_units\":\"screen\"},\"id\":\"3099\",\"type\":\"BoxAnnotation\"},{\"attributes\":{\"source\":{\"id\":\"2970\"}},\"id\":\"2974\",\"type\":\"CDSView\"},{\"attributes\":{},\"id\":\"2950\",\"type\":\"BasicTicker\"},{\"attributes\":{},\"id\":\"2943\",\"type\":\"DataRange1d\"},{\"attributes\":{},\"id\":\"2941\",\"type\":\"DataRange1d\"},{\"attributes\":{\"data\":{\"left\":{\"__ndarray__\":\"o3v03m+KC8AgWEKVDe8IwJw0kEurUwbAGRHeAUm4A8CW7Su45hwBwCaU89wIA/2/H02PSUTM978YBiu2f5XyvyR+jUV2veq/GPDEHu1P4L8wiPHfj4nHvxCwMLuULMI/IHQpq1zx3T8cSF18N2bpPxbrklHg6fE/GjL35KQg9z8ieVt4aVf8PxXg3wUXxwBAlwOST3liA0AbJ0SZ2/0FQA==\",\"dtype\":\"float64\",\"shape\":[20]},\"right\":{\"__ndarray__\":\"IFhClQ3vCMCcNJBLq1MGwBkR3gFJuAPAlu0ruOYcAcAmlPPcCAP9vx9Nj0lEzPe/GAYrtn+V8r8kfo1Fdr3qvxjwxB7tT+C/MIjx34+Jx78QsDC7lCzCPyB0Katc8d0/HEhdfDdm6T8W65JR4OnxPxoy9+SkIPc/InlbeGlX/D8V4N8FF8cAQJcDkk95YgNAGydEmdv9BUCdSvbiPZkIQA==\",\"dtype\":\"float64\",\"shape\":[20]},\"top\":[1,1,3,4,15,46,44,85,108,128,127,113,101,85,67,43,14,11,1,3]},\"selected\":{\"id\":\"3101\"},\"selection_policy\":{\"id\":\"3100\"}},\"id\":\"2970\",\"type\":\"ColumnDataSource\"},{\"attributes\":{},\"id\":\"3100\",\"type\":\"UnionRenderers\"},{\"attributes\":{},\"id\":\"2945\",\"type\":\"LinearScale\"},{\"attributes\":{},\"id\":\"3101\",\"type\":\"Selection\"},{\"attributes\":{\"formatter\":{\"id\":\"3095\"},\"ticker\":{\"id\":\"2950\"}},\"id\":\"2949\",\"type\":\"LinearAxis\"},{\"attributes\":{},\"id\":\"2947\",\"type\":\"LinearScale\"},{\"attributes\":{},\"id\":\"2957\",\"type\":\"PanTool\"},{\"attributes\":{\"axis\":{\"id\":\"2949\"},\"ticker\":null},\"id\":\"2952\",\"type\":\"Grid\"},{\"attributes\":{\"formatter\":{\"id\":\"3097\"},\"ticker\":{\"id\":\"2954\"}},\"id\":\"2953\",\"type\":\"LinearAxis\"},{\"attributes\":{\"axis\":{\"id\":\"2953\"},\"dimension\":1,\"ticker\":null},\"id\":\"2956\",\"type\":\"Grid\"},{\"attributes\":{\"text\":\"\"},\"id\":\"3094\",\"type\":\"Title\"},{\"attributes\":{},\"id\":\"3097\",\"type\":\"BasicTickFormatter\"},{\"attributes\":{\"active_drag\":\"auto\",\"active_inspect\":\"auto\",\"active_multi\":null,\"active_scroll\":\"auto\",\"active_tap\":\"auto\",\"tools\":[{\"id\":\"2957\"},{\"id\":\"2958\"},{\"id\":\"2959\"},{\"id\":\"2960\"},{\"id\":\"2961\"},{\"id\":\"2962\"}]},\"id\":\"2963\",\"type\":\"Toolbar\"},{\"attributes\":{},\"id\":\"3095\",\"type\":\"BasicTickFormatter\"},{\"attributes\":{\"bottom\":{\"value\":0},\"fill_alpha\":{\"value\":0.1},\"fill_color\":{\"value\":\"#1f77b4\"},\"left\":{\"field\":\"left\"},\"line_alpha\":{\"value\":0.1},\"line_color\":{\"value\":\"white\"},\"right\":{\"field\":\"right\"},\"top\":{\"field\":\"top\"}},\"id\":\"2972\",\"type\":\"Quad\"},{\"attributes\":{},\"id\":\"2958\",\"type\":\"WheelZoomTool\"},{\"attributes\":{},\"id\":\"2962\",\"type\":\"HelpTool\"},{\"attributes\":{\"overlay\":{\"id\":\"3099\"}},\"id\":\"2959\",\"type\":\"BoxZoomTool\"},{\"attributes\":{},\"id\":\"2960\",\"type\":\"SaveTool\"},{\"attributes\":{},\"id\":\"2961\",\"type\":\"ResetTool\"}],\"root_ids\":[\"2940\"]},\"title\":\"Bokeh Application\",\"version\":\"2.0.0\"}};\n",
       "  var render_items = [{\"docid\":\"2bf7df44-530a-4430-8462-c80cbc6cbb05\",\"root_ids\":[\"2940\"],\"roots\":{\"2940\":\"a9c08b79-7b37-48c4-ba47-8d017ad8b702\"}}];\n",
       "  root.Bokeh.embed.embed_items_notebook(docs_json, render_items);\n",
       "\n",
       "  }\n",
       "  if (root.Bokeh !== undefined) {\n",
       "    embed_document(root);\n",
       "  } else {\n",
       "    var attempts = 0;\n",
       "    var timer = setInterval(function(root) {\n",
       "      if (root.Bokeh !== undefined) {\n",
       "        clearInterval(timer);\n",
       "        embed_document(root);\n",
       "      } else {\n",
       "        attempts++;\n",
       "        if (attempts > 100) {\n",
       "          clearInterval(timer);\n",
       "          console.log(\"Bokeh: ERROR: Unable to run BokehJS code because BokehJS library is missing\");\n",
       "        }\n",
       "      }\n",
       "    }, 10, root)\n",
       "  }\n",
       "})(window);"
      ],
      "application/vnd.bokehjs_exec.v0+json": ""
     },
     "metadata": {
      "application/vnd.bokehjs_exec.v0+json": {
       "id": "2940"
      }
     },
     "output_type": "display_data"
    }
   ],
   "source": [
    "# 正規分布に基づく1000個の数値の要素からなる配列 \n",
    "d = np.random.randn(1000)\n",
    "# numpy.histogramで20のビンに分割\n",
    "hist, bin_edges = np.histogram(d, 20)\n",
    "p = figure()\n",
    "p.quad(top=hist, bottom=0, left=bin_edges[:-1], right=bin_edges[1:], line_color='white', alpha=0.5)\n",
    "show(p)"
   ]
  },
  {
   "cell_type": "markdown",
   "metadata": {},
   "source": [
    "## ヒートマップ\n",
    "\n",
    "最後に、複雑な応用例として、ヒートマップの描画方法を示します。\n",
    "次の例は、10x10 のマスに `0.0` 以上 `1.0` 未満の乱数の温度を割り当て、その値に応じた色で塗ったヒートマップです。\n",
    "ここでは、これまでと違って、x軸、y軸、温度の3つの値が必要になります。\n",
    "そこで、`bokeh.models.ColumnDataSource` 型を用いて、その3つ組を、`'x'`・`'y'`・`'T'` の属性を持った表データを構築しています。\n",
    "この表データの構築には、7-1で説明するpandasも使えます。\n",
    "\n",
    "ヒートマップでは、温度に応じた階調のある色選択が必要です。\n",
    "そこで、色階調と値を対応付ける `bokeh.models.LinearColorMapper` 型の `mapper` を準備します。\n",
    "`rect()` メソッドでは、表データの属性を参照して描画しています。\n",
    "色は、表データの値を `mapper` に適用して色に変化させたものを用いることで、温度に応じた色選択を実現しています。\n",
    "最後に、目盛り付きのカラーバーを生成して、右に配置しています。\n"
   ]
  },
  {
   "cell_type": "code",
   "execution_count": 16,
   "metadata": {
    "scrolled": false
   },
   "outputs": [
    {
     "data": {
      "text/html": [
       "\n",
       "\n",
       "\n",
       "\n",
       "\n",
       "\n",
       "  <div class=\"bk-root\" id=\"eebf5384-5649-46de-8459-4a5b5cf728fe\" data-root-id=\"3158\"></div>\n"
      ]
     },
     "metadata": {},
     "output_type": "display_data"
    },
    {
     "data": {
      "application/javascript": [
       "(function(root) {\n",
       "  function embed_document(root) {\n",
       "    \n",
       "  var docs_json = {\"cd1923f6-7b97-418a-9393-c7f7278faf68\":{\"roots\":{\"references\":[{\"attributes\":{\"below\":[{\"id\":\"3167\"}],\"center\":[{\"id\":\"3170\"},{\"id\":\"3174\"}],\"left\":[{\"id\":\"3171\"}],\"renderers\":[{\"id\":\"3191\"}],\"right\":[{\"id\":\"3195\"}],\"title\":{\"id\":\"3326\"},\"toolbar\":{\"id\":\"3181\"},\"x_range\":{\"id\":\"3159\"},\"x_scale\":{\"id\":\"3163\"},\"y_range\":{\"id\":\"3161\"},\"y_scale\":{\"id\":\"3165\"}},\"id\":\"3158\",\"subtype\":\"Figure\",\"type\":\"Plot\"},{\"attributes\":{},\"id\":\"3179\",\"type\":\"ResetTool\"},{\"attributes\":{\"overlay\":{\"id\":\"3331\"}},\"id\":\"3177\",\"type\":\"BoxZoomTool\"},{\"attributes\":{},\"id\":\"3180\",\"type\":\"HelpTool\"},{\"attributes\":{\"active_drag\":\"auto\",\"active_inspect\":\"auto\",\"active_multi\":null,\"active_scroll\":\"auto\",\"active_tap\":\"auto\",\"tools\":[{\"id\":\"3175\"},{\"id\":\"3176\"},{\"id\":\"3177\"},{\"id\":\"3178\"},{\"id\":\"3179\"},{\"id\":\"3180\"}]},\"id\":\"3181\",\"type\":\"Toolbar\"},{\"attributes\":{\"bottom_units\":\"screen\",\"fill_alpha\":0.5,\"fill_color\":\"lightgrey\",\"left_units\":\"screen\",\"level\":\"overlay\",\"line_alpha\":1.0,\"line_color\":\"black\",\"line_dash\":[4,4],\"line_width\":2,\"render_mode\":\"css\",\"right_units\":\"screen\",\"top_units\":\"screen\"},\"id\":\"3331\",\"type\":\"BoxAnnotation\"},{\"attributes\":{\"color_mapper\":{\"id\":\"3157\"},\"formatter\":{\"id\":\"3194\"},\"location\":[0,0],\"ticker\":{\"id\":\"3193\"}},\"id\":\"3195\",\"type\":\"ColorBar\"},{\"attributes\":{\"formatter\":{\"id\":\"3327\"},\"ticker\":{\"id\":\"3168\"}},\"id\":\"3167\",\"type\":\"LinearAxis\"},{\"attributes\":{\"text\":\"\"},\"id\":\"3326\",\"type\":\"Title\"},{\"attributes\":{\"high\":0.9848768509241359,\"low\":0.003050704908820312,\"palette\":[\"#75968f\",\"#a5bab7\",\"#c9d9d3\",\"#e2e2e2\",\"#dfccce\",\"#ddb7b1\",\"#cc7878\",\"#933b41\",\"#550b1d\"]},\"id\":\"3157\",\"type\":\"LinearColorMapper\"},{\"attributes\":{\"data\":{\"T\":{\"__ndarray__\":\"nYxd5qFj4j/wGg2Bv6XoP4xMWOyFIuw/AKx1+phlxz/fd/gSMzPsPwlOglBL4eg/qkyHVyks3j/ZgSOlXZrhPyACZ3YM/so/kOT4d/fz0D/QmbVimLzLPxYg1NcPGNw/VS8xPqnm4D/nw3jmuQfiP+zPKXUchO8/mGnlIGpUvz/4V2edMQnhP04mn/06GdI/zerVimYe4j8alvvnpPrlPw2VaI7c3Os/mPmAxKViyT82DO56MG3nP3C+xCu0/rI/J7So/Q5p7z8Z62Z2I/vjP8b/SmD1lOA/QFTcJGS0sT/wY8RDbTOgPxK1U0QGU90/hKUnRxkN3z+qFwN/HAvuPyG7R2a/w+E/pgIGFI9O6z8YC/0EMzHUP0yrFm+zgtI/Im2FgFu25j9luH0p0YbpP9bUoce43to/GajOlX126T+8UZTG7WbsPw3qSEnWLOc/mLf9YrnS4j80n9eSk7nEP/BGdr2Ostc/IUyUZ5cU4z/lJYFljZ7iPzqUvp6LVuQ/gILzTMJQiD8ZTzFj+0rgPwx6OCupNtk/ACkFusr9aD88DhgJvcLCP4NvWhXjzOA/1vpJOMzf1D/UpPrJf4fLP8rAtm3sl+E/b2HZVQSb5T+XsAuJ1YLsP0RRbPiTZs4/8kEXJeo92T86HjmgxOHrPzwWIoG4CuQ/Tnw+5O9D1j8B7AH7lYfmP7C4iYsOc+g/K0/ilnzP4T8ekqLusmbkP7xqkxMYn+Y/7OVbCDVt2D8EZ0YdW9/rPyDPBwf4RaA/qOgzmKoJ2D9VT7EYyxLrP7y/5rLF/Mc/XN9gJ6EKwD9seOchDQTeP2CE4uPemLc/LlYNgDy86T+ss70h8APEPzg6VeEf89M/FREURwXA4D8H7jZWhXPtPzTcK0AmBeM/e6AK6Q7p7T+sgErCmhPrP6a/8t6C+9M/FhOtEOQW2T/EOTLO+P/CP7qromAF5tg/rakkqvu14j8sVGnxAu/MP82cidWnw+Y/lfbst1Iv6D9g3sv5Q3rfPwxcUH3l8s4/jCMh/nby5T+9JKoPxgfiPyyJocZM798/KqqK32Bb4D8=\",\"dtype\":\"float64\",\"shape\":[100]},\"x\":[0,1,2,3,4,5,6,7,8,9,0,1,2,3,4,5,6,7,8,9,0,1,2,3,4,5,6,7,8,9,0,1,2,3,4,5,6,7,8,9,0,1,2,3,4,5,6,7,8,9,0,1,2,3,4,5,6,7,8,9,0,1,2,3,4,5,6,7,8,9,0,1,2,3,4,5,6,7,8,9,0,1,2,3,4,5,6,7,8,9,0,1,2,3,4,5,6,7,8,9],\"y\":[0,0,0,0,0,0,0,0,0,0,1,1,1,1,1,1,1,1,1,1,2,2,2,2,2,2,2,2,2,2,3,3,3,3,3,3,3,3,3,3,4,4,4,4,4,4,4,4,4,4,5,5,5,5,5,5,5,5,5,5,6,6,6,6,6,6,6,6,6,6,7,7,7,7,7,7,7,7,7,7,8,8,8,8,8,8,8,8,8,8,9,9,9,9,9,9,9,9,9,9]},\"selected\":{\"id\":\"3333\"},\"selection_policy\":{\"id\":\"3332\"}},\"id\":\"3156\",\"type\":\"ColumnDataSource\"},{\"attributes\":{\"fill_color\":{\"field\":\"T\",\"transform\":{\"id\":\"3157\"}},\"height\":{\"units\":\"data\",\"value\":1},\"line_color\":{\"value\":null},\"width\":{\"units\":\"data\",\"value\":1},\"x\":{\"field\":\"x\"},\"y\":{\"field\":\"y\"}},\"id\":\"3189\",\"type\":\"Rect\"},{\"attributes\":{\"source\":{\"id\":\"3156\"}},\"id\":\"3192\",\"type\":\"CDSView\"},{\"attributes\":{},\"id\":\"3163\",\"type\":\"LinearScale\"},{\"attributes\":{},\"id\":\"3161\",\"type\":\"DataRange1d\"},{\"attributes\":{\"format\":\"%2.1f\"},\"id\":\"3194\",\"type\":\"PrintfTickFormatter\"},{\"attributes\":{},\"id\":\"3159\",\"type\":\"DataRange1d\"},{\"attributes\":{},\"id\":\"3332\",\"type\":\"UnionRenderers\"},{\"attributes\":{},\"id\":\"3333\",\"type\":\"Selection\"},{\"attributes\":{\"desired_num_ticks\":9},\"id\":\"3193\",\"type\":\"BasicTicker\"},{\"attributes\":{},\"id\":\"3165\",\"type\":\"LinearScale\"},{\"attributes\":{},\"id\":\"3175\",\"type\":\"PanTool\"},{\"attributes\":{},\"id\":\"3168\",\"type\":\"BasicTicker\"},{\"attributes\":{\"axis\":{\"id\":\"3167\"},\"ticker\":null},\"id\":\"3170\",\"type\":\"Grid\"},{\"attributes\":{},\"id\":\"3327\",\"type\":\"BasicTickFormatter\"},{\"attributes\":{\"formatter\":{\"id\":\"3329\"},\"ticker\":{\"id\":\"3172\"}},\"id\":\"3171\",\"type\":\"LinearAxis\"},{\"attributes\":{},\"id\":\"3172\",\"type\":\"BasicTicker\"},{\"attributes\":{},\"id\":\"3176\",\"type\":\"WheelZoomTool\"},{\"attributes\":{},\"id\":\"3329\",\"type\":\"BasicTickFormatter\"},{\"attributes\":{\"axis\":{\"id\":\"3171\"},\"dimension\":1,\"ticker\":null},\"id\":\"3174\",\"type\":\"Grid\"},{\"attributes\":{},\"id\":\"3178\",\"type\":\"SaveTool\"},{\"attributes\":{\"data_source\":{\"id\":\"3156\"},\"glyph\":{\"id\":\"3189\"},\"hover_glyph\":null,\"muted_glyph\":null,\"nonselection_glyph\":{\"id\":\"3190\"},\"selection_glyph\":null,\"view\":{\"id\":\"3192\"}},\"id\":\"3191\",\"type\":\"GlyphRenderer\"},{\"attributes\":{\"fill_alpha\":{\"value\":0.1},\"fill_color\":{\"field\":\"T\",\"transform\":{\"id\":\"3157\"}},\"height\":{\"units\":\"data\",\"value\":1},\"line_alpha\":{\"value\":0.1},\"line_color\":{\"value\":null},\"width\":{\"units\":\"data\",\"value\":1},\"x\":{\"field\":\"x\"},\"y\":{\"field\":\"y\"}},\"id\":\"3190\",\"type\":\"Rect\"}],\"root_ids\":[\"3158\"]},\"title\":\"Bokeh Application\",\"version\":\"2.0.0\"}};\n",
       "  var render_items = [{\"docid\":\"cd1923f6-7b97-418a-9393-c7f7278faf68\",\"root_ids\":[\"3158\"],\"roots\":{\"3158\":\"eebf5384-5649-46de-8459-4a5b5cf728fe\"}}];\n",
       "  root.Bokeh.embed.embed_items_notebook(docs_json, render_items);\n",
       "\n",
       "  }\n",
       "  if (root.Bokeh !== undefined) {\n",
       "    embed_document(root);\n",
       "  } else {\n",
       "    var attempts = 0;\n",
       "    var timer = setInterval(function(root) {\n",
       "      if (root.Bokeh !== undefined) {\n",
       "        clearInterval(timer);\n",
       "        embed_document(root);\n",
       "      } else {\n",
       "        attempts++;\n",
       "        if (attempts > 100) {\n",
       "          clearInterval(timer);\n",
       "          console.log(\"Bokeh: ERROR: Unable to run BokehJS code because BokehJS library is missing\");\n",
       "        }\n",
       "      }\n",
       "    }, 10, root)\n",
       "  }\n",
       "})(window);"
      ],
      "application/vnd.bokehjs_exec.v0+json": ""
     },
     "metadata": {
      "application/vnd.bokehjs_exec.v0+json": {
       "id": "3158"
      }
     },
     "output_type": "display_data"
    }
   ],
   "source": [
    "from bokeh.models import LinearColorMapper, BasicTicker, PrintfTickFormatter, ColorBar, ColumnDataSource\n",
    "from bokeh.transform import transform\n",
    "\n",
    "# 10行10列のランダム要素からなる行列\n",
    "n = 10\n",
    "data = np.random.rand(n*n)\n",
    "src = ColumnDataSource({'x': [yx % n for yx in range(n*n)], 'y': [yx // n for yx in range(n*n)], 'T' : data})\n",
    "\n",
    "colors = ['#75968f', '#a5bab7', '#c9d9d3', '#e2e2e2', '#dfccce', '#ddb7b1', '#cc7878', '#933b41', '#550b1d']\n",
    "mapper = LinearColorMapper(palette=colors, low=data.min(), high=data.max())\n",
    "p = figure()\n",
    "p.rect('x', 'y', 1, 1, source=src, line_color=None, fill_color=transform('T', mapper))\n",
    "color_bar = ColorBar(color_mapper=mapper, location=(0, 0),\n",
    "                     ticker=BasicTicker(desired_num_ticks=len(colors)),\n",
    "                     formatter=PrintfTickFormatter(format='%2.1f'))\n",
    "p.add_layout(color_bar, 'right')\n",
    "show(p)"
   ]
  },
  {
   "cell_type": "markdown",
   "metadata": {},
   "source": [
    "## グラフのファイル出力\n",
    "\n",
    "これまで表示されてきたグラフには画像保存ボタンがあるので、それをクリックすればPNG形式の画像を保存できます。\n",
    "\n",
    "`bokeh.plotting.output_file()` を用いると、グラフ単独をHTMLファイルとして保存できるようになります。\n",
    "ただし、既に `output_notebook()` を読んでいる場合、`bokeh.plotting.reset_output()` で状態をリセットする必要があります。"
   ]
  },
  {
   "cell_type": "code",
   "execution_count": 17,
   "metadata": {},
   "outputs": [],
   "source": [
    "from bokeh.plotting import save, output_file, reset_output\n",
    "x = np.arange(-2*np.pi, 2*np.pi, 0.1)\n",
    "p = figure(title='sin Curves', x_axis_label='x', y_axis_label='y')\n",
    "p.line(x, np.sin(x))\n",
    "\n",
    "reset_output() # output_notebook()の効果を消す\n",
    "output_file('sin.html') # 出力先の設定\n",
    "save(p) # グラフを保存するだけ\n",
    "show(p) # 保存した上でブラウザを開く"
   ]
  },
  {
   "cell_type": "markdown",
   "metadata": {},
   "source": [
    "***注意***：`output_notebook()` を呼んだ状態と `output_file()` を呼んだ状態が重なると、`show()` でエラーが起きます。"
   ]
  },
  {
   "cell_type": "code",
   "execution_count": null,
   "metadata": {},
   "outputs": [],
   "source": []
  }
 ],
 "metadata": {
  "kernelspec": {
   "display_name": "Python 3",
   "language": "python",
   "name": "python3"
  },
  "language_info": {
   "codemirror_mode": {
    "name": "ipython",
    "version": 3
   },
   "file_extension": ".py",
   "mimetype": "text/x-python",
   "name": "python",
   "nbconvert_exporter": "python",
   "pygments_lexer": "ipython3",
   "version": "3.8.0"
  }
 },
 "nbformat": 4,
 "nbformat_minor": 2
}
